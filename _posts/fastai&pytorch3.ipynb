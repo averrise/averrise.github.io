{
  "nbformat": 4,
  "nbformat_minor": 0,
  "metadata": {
    "colab": {
      "provenance": [],
      "authorship_tag": "ABX9TyMjudp/WgQLDqAfAgyR3WCf",
      "include_colab_link": true
    },
    "kernelspec": {
      "name": "python3",
      "display_name": "Python 3"
    },
    "language_info": {
      "name": "python"
    }
  },
  "cells": [
    {
      "cell_type": "markdown",
      "metadata": {
        "id": "view-in-github",
        "colab_type": "text"
      },
      "source": [
        "<a href=\"https://colab.research.google.com/github/averrise/averrise.github.io/blob/master/_posts/fastai%26pytorch3.ipynb\" target=\"_parent\"><img src=\"https://colab.research.google.com/assets/colab-badge.svg\" alt=\"Open In Colab\"/></a>"
      ]
    },
    {
      "cell_type": "code",
      "source": [
        "!pip install -Uqq fastai\n",
        "#hide\n",
        "! [ -e /content ] && pip install -Uqq fastbook\n",
        "import fastbook\n",
        "fastbook.setup_book()"
      ],
      "metadata": {
        "id": "UHn6ZIE8_Ydv"
      },
      "execution_count": 249,
      "outputs": []
    },
    {
      "cell_type": "markdown",
      "source": [
        "FAST AI 설치"
      ],
      "metadata": {
        "id": "KvB9keX0_c8Z"
      }
    },
    {
      "cell_type": "code",
      "execution_count": 250,
      "metadata": {
        "id": "pSN24Jb-gZin"
      },
      "outputs": [],
      "source": [
        "# 필요한 라이브러리 임포트\n",
        "from fastai.vision.all import *\n",
        "\n",
        "path = untar_data(URLs.MNIST_SAMPLE)"
      ]
    },
    {
      "cell_type": "markdown",
      "source": [
        "MNIST 샘플 다운로드\n"
      ],
      "metadata": {
        "id": "z6eJR-CU_v0o"
      }
    },
    {
      "cell_type": "code",
      "source": [
        "path.ls()"
      ],
      "metadata": {
        "colab": {
          "base_uri": "https://localhost:8080/"
        },
        "id": "w_UwRgQw_va2",
        "outputId": "cdbdcb33-e1b6-46f6-e0c2-661e1350d959"
      },
      "execution_count": 251,
      "outputs": [
        {
          "output_type": "execute_result",
          "data": {
            "text/plain": [
              "(#3) [Path('/root/.fastai/data/mnist_sample/labels.csv'),Path('/root/.fastai/data/mnist_sample/train'),Path('/root/.fastai/data/mnist_sample/valid')]"
            ]
          },
          "metadata": {},
          "execution_count": 251
        }
      ]
    },
    {
      "cell_type": "markdown",
      "source": [
        "LS 메소드는 L클래스 객체를 반환 L은LIST를 확장하여 목록과 목록의 개수를 함께 출력함\n"
      ],
      "metadata": {
        "id": "YI-67bRpAoK9"
      }
    },
    {
      "cell_type": "code",
      "source": [
        "(path/'train').ls()"
      ],
      "metadata": {
        "colab": {
          "base_uri": "https://localhost:8080/"
        },
        "id": "6Fed10L4Az5u",
        "outputId": "1c1881ae-2c5a-4f5f-c65a-2a3e711a72f6"
      },
      "execution_count": 252,
      "outputs": [
        {
          "output_type": "execute_result",
          "data": {
            "text/plain": [
              "(#2) [Path('/root/.fastai/data/mnist_sample/train/3'),Path('/root/.fastai/data/mnist_sample/train/7')]"
            ]
          },
          "metadata": {},
          "execution_count": 252
        }
      ]
    },
    {
      "cell_type": "markdown",
      "source": [
        "3,7을 레이블 이라고 표현'"
      ],
      "metadata": {
        "id": "2Cyy0iQpBc2l"
      }
    },
    {
      "cell_type": "code",
      "source": [
        "threes = (path/'train'/'3').ls().sorted()\n",
        "sevens = (path/'train'/'7').ls().sorted()\n",
        "threes"
      ],
      "metadata": {
        "colab": {
          "base_uri": "https://localhost:8080/"
        },
        "id": "8WkRQ5b9BRrX",
        "outputId": "731fbaaa-83d7-4139-8bef-d841b7051f41"
      },
      "execution_count": 253,
      "outputs": [
        {
          "output_type": "execute_result",
          "data": {
            "text/plain": [
              "(#6131) [Path('/root/.fastai/data/mnist_sample/train/3/10.png'),Path('/root/.fastai/data/mnist_sample/train/3/10000.png'),Path('/root/.fastai/data/mnist_sample/train/3/10011.png'),Path('/root/.fastai/data/mnist_sample/train/3/10031.png'),Path('/root/.fastai/data/mnist_sample/train/3/10034.png'),Path('/root/.fastai/data/mnist_sample/train/3/10042.png'),Path('/root/.fastai/data/mnist_sample/train/3/10052.png'),Path('/root/.fastai/data/mnist_sample/train/3/1007.png'),Path('/root/.fastai/data/mnist_sample/train/3/10074.png'),Path('/root/.fastai/data/mnist_sample/train/3/10091.png')...]"
            ]
          },
          "metadata": {},
          "execution_count": 253
        }
      ]
    },
    {
      "cell_type": "markdown",
      "source": [
        "파일 순서가 항상 같도록 정렬\n",
        "sorted뒤에 ()를 안 붙이면 메소드 판정"
      ],
      "metadata": {
        "id": "ZxGnep3WBzlq"
      }
    },
    {
      "cell_type": "code",
      "source": [
        "im3_path = threes[1]\n",
        "im3 = Image.open(im3_path)\n",
        "im3"
      ],
      "metadata": {
        "colab": {
          "base_uri": "https://localhost:8080/",
          "height": 45
        },
        "id": "OgszNmPvB35Q",
        "outputId": "00ba6e5a-f947-45d1-ec0c-faf1c3de0df1"
      },
      "execution_count": 254,
      "outputs": [
        {
          "output_type": "execute_result",
          "data": {
            "text/plain": [
              "<PIL.PngImagePlugin.PngImageFile image mode=L size=28x28>"
            ],
            "image/png": "[encoded data removed]"
          },
          "metadata": {},
          "execution_count": 254
        }
      ]
    },
    {
      "cell_type": "code",
      "source": [
        "array(im3)[4:10,4:10]"
      ],
      "metadata": {
        "colab": {
          "base_uri": "https://localhost:8080/"
        },
        "id": "c2gsX0j3DhD2",
        "outputId": "7b47776d-fe29-44af-a675-3e6845b5f2f7"
      },
      "execution_count": 255,
      "outputs": [
        {
          "output_type": "execute_result",
          "data": {
            "text/plain": [
              "array([[  0,   0,   0,   0,   0,   0],\n",
              "       [  0,   0,   0,   0,   0,  29],\n",
              "       [  0,   0,   0,  48, 166, 224],\n",
              "       [  0,  93, 244, 249, 253, 187],\n",
              "       [  0, 107, 253, 253, 230,  48],\n",
              "       [  0,   3,  20,  20,  15,   0]], dtype=uint8)"
            ]
          },
          "metadata": {},
          "execution_count": 255
        }
      ]
    },
    {
      "cell_type": "code",
      "source": [
        "tensor(im3)[4:10,4:10]"
      ],
      "metadata": {
        "colab": {
          "base_uri": "https://localhost:8080/"
        },
        "id": "hNptl0heDyQj",
        "outputId": "14a9af6f-5c07-4477-bd90-db2a4430fb85"
      },
      "execution_count": 256,
      "outputs": [
        {
          "output_type": "execute_result",
          "data": {
            "text/plain": [
              "tensor([[  0,   0,   0,   0,   0,   0],\n",
              "        [  0,   0,   0,   0,   0,  29],\n",
              "        [  0,   0,   0,  48, 166, 224],\n",
              "        [  0,  93, 244, 249, 253, 187],\n",
              "        [  0, 107, 253, 253, 230,  48],\n",
              "        [  0,   3,  20,  20,  15,   0]], dtype=torch.uint8)"
            ]
          },
          "metadata": {},
          "execution_count": 256
        }
      ]
    },
    {
      "cell_type": "markdown",
      "source": [
        "[4:10,4:10]은 좌측 상단의 범위를 탐색 위 아래, 좌우"
      ],
      "metadata": {
        "id": "ZdWJnZ9eD93x"
      }
    },
    {
      "cell_type": "code",
      "source": [
        "im3_t = tensor(im3)\n",
        "df = pd.DataFrame(im3_t[4:15,4:22])\n",
        "df.style.set_properties(**{'font-size':'6pt'}).background_gradient('Greys')"
      ],
      "metadata": {
        "colab": {
          "base_uri": "https://localhost:8080/",
          "height": 394
        },
        "id": "PKnp6mRJENPi",
        "outputId": "a37bcc5e-9020-4f8e-9aba-362088bc5d11"
      },
      "execution_count": 257,
      "outputs": [
        {
          "output_type": "execute_result",
          "data": {
            "text/plain": [
              "<pandas.io.formats.style.Styler at 0x78f9cee26a70>"
            ],
            "text/html": [
              "<style type=\"text/css\">\n",
              "#T_041cf_row0_col0, #T_041cf_row0_col1, #T_041cf_row0_col2, #T_041cf_row0_col3, #T_041cf_row0_col4, #T_041cf_row0_col5, #T_041cf_row0_col6, #T_041cf_row0_col7, #T_041cf_row0_col8, #T_041cf_row0_col9, #T_041cf_row0_col10, #T_041cf_row0_col11, #T_041cf_row0_col12, #T_041cf_row0_col13, #T_041cf_row0_col14, #T_041cf_row0_col15, #T_041cf_row0_col16, #T_041cf_row0_col17, #T_041cf_row1_col0, #T_041cf_row1_col1, #T_041cf_row1_col2, #T_041cf_row1_col3, #T_041cf_row1_col4, #T_041cf_row1_col15, #T_041cf_row1_col16, #T_041cf_row1_col17, #T_041cf_row2_col0, #T_041cf_row2_col1, #T_041cf_row2_col2, #T_041cf_row2_col15, #T_041cf_row2_col16, #T_041cf_row2_col17, #T_041cf_row3_col0, #T_041cf_row3_col15, #T_041cf_row3_col16, #T_041cf_row3_col17, #T_041cf_row4_col0, #T_041cf_row4_col6, #T_041cf_row4_col7, #T_041cf_row4_col8, #T_041cf_row4_col9, #T_041cf_row4_col10, #T_041cf_row4_col15, #T_041cf_row4_col16, #T_041cf_row4_col17, #T_041cf_row5_col0, #T_041cf_row5_col5, #T_041cf_row5_col6, #T_041cf_row5_col7, #T_041cf_row5_col8, #T_041cf_row5_col9, #T_041cf_row5_col15, #T_041cf_row5_col16, #T_041cf_row5_col17, #T_041cf_row6_col0, #T_041cf_row6_col1, #T_041cf_row6_col2, #T_041cf_row6_col3, #T_041cf_row6_col4, #T_041cf_row6_col5, #T_041cf_row6_col6, #T_041cf_row6_col7, #T_041cf_row6_col8, #T_041cf_row6_col9, #T_041cf_row6_col14, #T_041cf_row6_col15, #T_041cf_row6_col16, #T_041cf_row6_col17, #T_041cf_row7_col0, #T_041cf_row7_col1, #T_041cf_row7_col2, #T_041cf_row7_col3, #T_041cf_row7_col4, #T_041cf_row7_col5, #T_041cf_row7_col6, #T_041cf_row7_col13, #T_041cf_row7_col14, #T_041cf_row7_col15, #T_041cf_row7_col16, #T_041cf_row7_col17, #T_041cf_row8_col0, #T_041cf_row8_col1, #T_041cf_row8_col2, #T_041cf_row8_col3, #T_041cf_row8_col4, #T_041cf_row8_col13, #T_041cf_row8_col14, #T_041cf_row8_col15, #T_041cf_row8_col16, #T_041cf_row8_col17, #T_041cf_row9_col0, #T_041cf_row9_col1, #T_041cf_row9_col2, #T_041cf_row9_col3, #T_041cf_row9_col4, #T_041cf_row9_col16, #T_041cf_row9_col17, #T_041cf_row10_col0, #T_041cf_row10_col1, #T_041cf_row10_col2, #T_041cf_row10_col3, #T_041cf_row10_col4, #T_041cf_row10_col5, #T_041cf_row10_col6, #T_041cf_row10_col17 {\n",
              "  font-size: 6pt;\n",
              "  background-color: #ffffff;\n",
              "  color: #000000;\n",
              "}\n",
              "#T_041cf_row1_col5 {\n",
              "  font-size: 6pt;\n",
              "  background-color: #efefef;\n",
              "  color: #000000;\n",
              "}\n",
              "#T_041cf_row1_col6, #T_041cf_row1_col13 {\n",
              "  font-size: 6pt;\n",
              "  background-color: #7c7c7c;\n",
              "  color: #f1f1f1;\n",
              "}\n",
              "#T_041cf_row1_col7 {\n",
              "  font-size: 6pt;\n",
              "  background-color: #4a4a4a;\n",
              "  color: #f1f1f1;\n",
              "}\n",
              "#T_041cf_row1_col8, #T_041cf_row1_col9, #T_041cf_row1_col10, #T_041cf_row2_col5, #T_041cf_row2_col6, #T_041cf_row2_col7, #T_041cf_row2_col11, #T_041cf_row2_col12, #T_041cf_row2_col13, #T_041cf_row3_col4, #T_041cf_row3_col12, #T_041cf_row3_col13, #T_041cf_row4_col1, #T_041cf_row4_col2, #T_041cf_row4_col3, #T_041cf_row4_col12, #T_041cf_row4_col13, #T_041cf_row5_col12, #T_041cf_row6_col11, #T_041cf_row9_col11, #T_041cf_row10_col11, #T_041cf_row10_col12, #T_041cf_row10_col13, #T_041cf_row10_col14, #T_041cf_row10_col15, #T_041cf_row10_col16 {\n",
              "  font-size: 6pt;\n",
              "  background-color: #000000;\n",
              "  color: #f1f1f1;\n",
              "}\n",
              "#T_041cf_row1_col11 {\n",
              "  font-size: 6pt;\n",
              "  background-color: #606060;\n",
              "  color: #f1f1f1;\n",
              "}\n",
              "#T_041cf_row1_col12 {\n",
              "  font-size: 6pt;\n",
              "  background-color: #4d4d4d;\n",
              "  color: #f1f1f1;\n",
              "}\n",
              "#T_041cf_row1_col14 {\n",
              "  font-size: 6pt;\n",
              "  background-color: #bbbbbb;\n",
              "  color: #000000;\n",
              "}\n",
              "#T_041cf_row2_col3 {\n",
              "  font-size: 6pt;\n",
              "  background-color: #e4e4e4;\n",
              "  color: #000000;\n",
              "}\n",
              "#T_041cf_row2_col4, #T_041cf_row8_col6 {\n",
              "  font-size: 6pt;\n",
              "  background-color: #6b6b6b;\n",
              "  color: #f1f1f1;\n",
              "}\n",
              "#T_041cf_row2_col8, #T_041cf_row2_col14, #T_041cf_row3_col14 {\n",
              "  font-size: 6pt;\n",
              "  background-color: #171717;\n",
              "  color: #f1f1f1;\n",
              "}\n",
              "#T_041cf_row2_col9, #T_041cf_row3_col11 {\n",
              "  font-size: 6pt;\n",
              "  background-color: #4b4b4b;\n",
              "  color: #f1f1f1;\n",
              "}\n",
              "#T_041cf_row2_col10, #T_041cf_row7_col10, #T_041cf_row8_col8, #T_041cf_row8_col10, #T_041cf_row9_col8, #T_041cf_row9_col10 {\n",
              "  font-size: 6pt;\n",
              "  background-color: #010101;\n",
              "  color: #f1f1f1;\n",
              "}\n",
              "#T_041cf_row3_col1 {\n",
              "  font-size: 6pt;\n",
              "  background-color: #272727;\n",
              "  color: #f1f1f1;\n",
              "}\n",
              "#T_041cf_row3_col2 {\n",
              "  font-size: 6pt;\n",
              "  background-color: #0a0a0a;\n",
              "  color: #f1f1f1;\n",
              "}\n",
              "#T_041cf_row3_col3 {\n",
              "  font-size: 6pt;\n",
              "  background-color: #050505;\n",
              "  color: #f1f1f1;\n",
              "}\n",
              "#T_041cf_row3_col5 {\n",
              "  font-size: 6pt;\n",
              "  background-color: #333333;\n",
              "  color: #f1f1f1;\n",
              "}\n",
              "#T_041cf_row3_col6 {\n",
              "  font-size: 6pt;\n",
              "  background-color: #e6e6e6;\n",
              "  color: #000000;\n",
              "}\n",
              "#T_041cf_row3_col7, #T_041cf_row3_col10 {\n",
              "  font-size: 6pt;\n",
              "  background-color: #fafafa;\n",
              "  color: #000000;\n",
              "}\n",
              "#T_041cf_row3_col8 {\n",
              "  font-size: 6pt;\n",
              "  background-color: #fbfbfb;\n",
              "  color: #000000;\n",
              "}\n",
              "#T_041cf_row3_col9 {\n",
              "  font-size: 6pt;\n",
              "  background-color: #fdfdfd;\n",
              "  color: #000000;\n",
              "}\n",
              "#T_041cf_row4_col4 {\n",
              "  font-size: 6pt;\n",
              "  background-color: #1b1b1b;\n",
              "  color: #f1f1f1;\n",
              "}\n",
              "#T_041cf_row4_col5 {\n",
              "  font-size: 6pt;\n",
              "  background-color: #e0e0e0;\n",
              "  color: #000000;\n",
              "}\n",
              "#T_041cf_row4_col11 {\n",
              "  font-size: 6pt;\n",
              "  background-color: #4e4e4e;\n",
              "  color: #f1f1f1;\n",
              "}\n",
              "#T_041cf_row4_col14 {\n",
              "  font-size: 6pt;\n",
              "  background-color: #767676;\n",
              "  color: #f1f1f1;\n",
              "}\n",
              "#T_041cf_row5_col1 {\n",
              "  font-size: 6pt;\n",
              "  background-color: #fcfcfc;\n",
              "  color: #000000;\n",
              "}\n",
              "#T_041cf_row5_col2, #T_041cf_row5_col3 {\n",
              "  font-size: 6pt;\n",
              "  background-color: #f6f6f6;\n",
              "  color: #000000;\n",
              "}\n",
              "#T_041cf_row5_col4, #T_041cf_row7_col7 {\n",
              "  font-size: 6pt;\n",
              "  background-color: #f8f8f8;\n",
              "  color: #000000;\n",
              "}\n",
              "#T_041cf_row5_col10, #T_041cf_row10_col7 {\n",
              "  font-size: 6pt;\n",
              "  background-color: #e8e8e8;\n",
              "  color: #000000;\n",
              "}\n",
              "#T_041cf_row5_col11 {\n",
              "  font-size: 6pt;\n",
              "  background-color: #222222;\n",
              "  color: #f1f1f1;\n",
              "}\n",
              "#T_041cf_row5_col13, #T_041cf_row6_col12 {\n",
              "  font-size: 6pt;\n",
              "  background-color: #090909;\n",
              "  color: #f1f1f1;\n",
              "}\n",
              "#T_041cf_row5_col14 {\n",
              "  font-size: 6pt;\n",
              "  background-color: #d0d0d0;\n",
              "  color: #000000;\n",
              "}\n",
              "#T_041cf_row6_col10, #T_041cf_row7_col11, #T_041cf_row9_col6 {\n",
              "  font-size: 6pt;\n",
              "  background-color: #060606;\n",
              "  color: #f1f1f1;\n",
              "}\n",
              "#T_041cf_row6_col13 {\n",
              "  font-size: 6pt;\n",
              "  background-color: #979797;\n",
              "  color: #f1f1f1;\n",
              "}\n",
              "#T_041cf_row7_col8 {\n",
              "  font-size: 6pt;\n",
              "  background-color: #b6b6b6;\n",
              "  color: #000000;\n",
              "}\n",
              "#T_041cf_row7_col9 {\n",
              "  font-size: 6pt;\n",
              "  background-color: #252525;\n",
              "  color: #f1f1f1;\n",
              "}\n",
              "#T_041cf_row7_col12 {\n",
              "  font-size: 6pt;\n",
              "  background-color: #999999;\n",
              "  color: #f1f1f1;\n",
              "}\n",
              "#T_041cf_row8_col5 {\n",
              "  font-size: 6pt;\n",
              "  background-color: #f9f9f9;\n",
              "  color: #000000;\n",
              "}\n",
              "#T_041cf_row8_col7 {\n",
              "  font-size: 6pt;\n",
              "  background-color: #101010;\n",
              "  color: #f1f1f1;\n",
              "}\n",
              "#T_041cf_row8_col9, #T_041cf_row9_col9 {\n",
              "  font-size: 6pt;\n",
              "  background-color: #020202;\n",
              "  color: #f1f1f1;\n",
              "}\n",
              "#T_041cf_row8_col11 {\n",
              "  font-size: 6pt;\n",
              "  background-color: #545454;\n",
              "  color: #f1f1f1;\n",
              "}\n",
              "#T_041cf_row8_col12 {\n",
              "  font-size: 6pt;\n",
              "  background-color: #f1f1f1;\n",
              "  color: #000000;\n",
              "}\n",
              "#T_041cf_row9_col5 {\n",
              "  font-size: 6pt;\n",
              "  background-color: #f7f7f7;\n",
              "  color: #000000;\n",
              "}\n",
              "#T_041cf_row9_col7 {\n",
              "  font-size: 6pt;\n",
              "  background-color: #030303;\n",
              "  color: #f1f1f1;\n",
              "}\n",
              "#T_041cf_row9_col12 {\n",
              "  font-size: 6pt;\n",
              "  background-color: #181818;\n",
              "  color: #f1f1f1;\n",
              "}\n",
              "#T_041cf_row9_col13 {\n",
              "  font-size: 6pt;\n",
              "  background-color: #303030;\n",
              "  color: #f1f1f1;\n",
              "}\n",
              "#T_041cf_row9_col14 {\n",
              "  font-size: 6pt;\n",
              "  background-color: #a9a9a9;\n",
              "  color: #f1f1f1;\n",
              "}\n",
              "#T_041cf_row9_col15 {\n",
              "  font-size: 6pt;\n",
              "  background-color: #fefefe;\n",
              "  color: #000000;\n",
              "}\n",
              "#T_041cf_row10_col8, #T_041cf_row10_col9 {\n",
              "  font-size: 6pt;\n",
              "  background-color: #bababa;\n",
              "  color: #000000;\n",
              "}\n",
              "#T_041cf_row10_col10 {\n",
              "  font-size: 6pt;\n",
              "  background-color: #393939;\n",
              "  color: #f1f1f1;\n",
              "}\n",
              "</style>\n",
              "<table id=\"T_041cf\" class=\"dataframe\">\n",
              "  <thead>\n",
              "    <tr>\n",
              "      <th class=\"blank level0\" >&nbsp;</th>\n",
              "      <th id=\"T_041cf_level0_col0\" class=\"col_heading level0 col0\" >0</th>\n",
              "      <th id=\"T_041cf_level0_col1\" class=\"col_heading level0 col1\" >1</th>\n",
              "      <th id=\"T_041cf_level0_col2\" class=\"col_heading level0 col2\" >2</th>\n",
              "      <th id=\"T_041cf_level0_col3\" class=\"col_heading level0 col3\" >3</th>\n",
              "      <th id=\"T_041cf_level0_col4\" class=\"col_heading level0 col4\" >4</th>\n",
              "      <th id=\"T_041cf_level0_col5\" class=\"col_heading level0 col5\" >5</th>\n",
              "      <th id=\"T_041cf_level0_col6\" class=\"col_heading level0 col6\" >6</th>\n",
              "      <th id=\"T_041cf_level0_col7\" class=\"col_heading level0 col7\" >7</th>\n",
              "      <th id=\"T_041cf_level0_col8\" class=\"col_heading level0 col8\" >8</th>\n",
              "      <th id=\"T_041cf_level0_col9\" class=\"col_heading level0 col9\" >9</th>\n",
              "      <th id=\"T_041cf_level0_col10\" class=\"col_heading level0 col10\" >10</th>\n",
              "      <th id=\"T_041cf_level0_col11\" class=\"col_heading level0 col11\" >11</th>\n",
              "      <th id=\"T_041cf_level0_col12\" class=\"col_heading level0 col12\" >12</th>\n",
              "      <th id=\"T_041cf_level0_col13\" class=\"col_heading level0 col13\" >13</th>\n",
              "      <th id=\"T_041cf_level0_col14\" class=\"col_heading level0 col14\" >14</th>\n",
              "      <th id=\"T_041cf_level0_col15\" class=\"col_heading level0 col15\" >15</th>\n",
              "      <th id=\"T_041cf_level0_col16\" class=\"col_heading level0 col16\" >16</th>\n",
              "      <th id=\"T_041cf_level0_col17\" class=\"col_heading level0 col17\" >17</th>\n",
              "    </tr>\n",
              "  </thead>\n",
              "  <tbody>\n",
              "    <tr>\n",
              "      <th id=\"T_041cf_level0_row0\" class=\"row_heading level0 row0\" >0</th>\n",
              "      <td id=\"T_041cf_row0_col0\" class=\"data row0 col0\" >0</td>\n",
              "      <td id=\"T_041cf_row0_col1\" class=\"data row0 col1\" >0</td>\n",
              "      <td id=\"T_041cf_row0_col2\" class=\"data row0 col2\" >0</td>\n",
              "      <td id=\"T_041cf_row0_col3\" class=\"data row0 col3\" >0</td>\n",
              "      <td id=\"T_041cf_row0_col4\" class=\"data row0 col4\" >0</td>\n",
              "      <td id=\"T_041cf_row0_col5\" class=\"data row0 col5\" >0</td>\n",
              "      <td id=\"T_041cf_row0_col6\" class=\"data row0 col6\" >0</td>\n",
              "      <td id=\"T_041cf_row0_col7\" class=\"data row0 col7\" >0</td>\n",
              "      <td id=\"T_041cf_row0_col8\" class=\"data row0 col8\" >0</td>\n",
              "      <td id=\"T_041cf_row0_col9\" class=\"data row0 col9\" >0</td>\n",
              "      <td id=\"T_041cf_row0_col10\" class=\"data row0 col10\" >0</td>\n",
              "      <td id=\"T_041cf_row0_col11\" class=\"data row0 col11\" >0</td>\n",
              "      <td id=\"T_041cf_row0_col12\" class=\"data row0 col12\" >0</td>\n",
              "      <td id=\"T_041cf_row0_col13\" class=\"data row0 col13\" >0</td>\n",
              "      <td id=\"T_041cf_row0_col14\" class=\"data row0 col14\" >0</td>\n",
              "      <td id=\"T_041cf_row0_col15\" class=\"data row0 col15\" >0</td>\n",
              "      <td id=\"T_041cf_row0_col16\" class=\"data row0 col16\" >0</td>\n",
              "      <td id=\"T_041cf_row0_col17\" class=\"data row0 col17\" >0</td>\n",
              "    </tr>\n",
              "    <tr>\n",
              "      <th id=\"T_041cf_level0_row1\" class=\"row_heading level0 row1\" >1</th>\n",
              "      <td id=\"T_041cf_row1_col0\" class=\"data row1 col0\" >0</td>\n",
              "      <td id=\"T_041cf_row1_col1\" class=\"data row1 col1\" >0</td>\n",
              "      <td id=\"T_041cf_row1_col2\" class=\"data row1 col2\" >0</td>\n",
              "      <td id=\"T_041cf_row1_col3\" class=\"data row1 col3\" >0</td>\n",
              "      <td id=\"T_041cf_row1_col4\" class=\"data row1 col4\" >0</td>\n",
              "      <td id=\"T_041cf_row1_col5\" class=\"data row1 col5\" >29</td>\n",
              "      <td id=\"T_041cf_row1_col6\" class=\"data row1 col6\" >150</td>\n",
              "      <td id=\"T_041cf_row1_col7\" class=\"data row1 col7\" >195</td>\n",
              "      <td id=\"T_041cf_row1_col8\" class=\"data row1 col8\" >254</td>\n",
              "      <td id=\"T_041cf_row1_col9\" class=\"data row1 col9\" >255</td>\n",
              "      <td id=\"T_041cf_row1_col10\" class=\"data row1 col10\" >254</td>\n",
              "      <td id=\"T_041cf_row1_col11\" class=\"data row1 col11\" >176</td>\n",
              "      <td id=\"T_041cf_row1_col12\" class=\"data row1 col12\" >193</td>\n",
              "      <td id=\"T_041cf_row1_col13\" class=\"data row1 col13\" >150</td>\n",
              "      <td id=\"T_041cf_row1_col14\" class=\"data row1 col14\" >96</td>\n",
              "      <td id=\"T_041cf_row1_col15\" class=\"data row1 col15\" >0</td>\n",
              "      <td id=\"T_041cf_row1_col16\" class=\"data row1 col16\" >0</td>\n",
              "      <td id=\"T_041cf_row1_col17\" class=\"data row1 col17\" >0</td>\n",
              "    </tr>\n",
              "    <tr>\n",
              "      <th id=\"T_041cf_level0_row2\" class=\"row_heading level0 row2\" >2</th>\n",
              "      <td id=\"T_041cf_row2_col0\" class=\"data row2 col0\" >0</td>\n",
              "      <td id=\"T_041cf_row2_col1\" class=\"data row2 col1\" >0</td>\n",
              "      <td id=\"T_041cf_row2_col2\" class=\"data row2 col2\" >0</td>\n",
              "      <td id=\"T_041cf_row2_col3\" class=\"data row2 col3\" >48</td>\n",
              "      <td id=\"T_041cf_row2_col4\" class=\"data row2 col4\" >166</td>\n",
              "      <td id=\"T_041cf_row2_col5\" class=\"data row2 col5\" >224</td>\n",
              "      <td id=\"T_041cf_row2_col6\" class=\"data row2 col6\" >253</td>\n",
              "      <td id=\"T_041cf_row2_col7\" class=\"data row2 col7\" >253</td>\n",
              "      <td id=\"T_041cf_row2_col8\" class=\"data row2 col8\" >234</td>\n",
              "      <td id=\"T_041cf_row2_col9\" class=\"data row2 col9\" >196</td>\n",
              "      <td id=\"T_041cf_row2_col10\" class=\"data row2 col10\" >253</td>\n",
              "      <td id=\"T_041cf_row2_col11\" class=\"data row2 col11\" >253</td>\n",
              "      <td id=\"T_041cf_row2_col12\" class=\"data row2 col12\" >253</td>\n",
              "      <td id=\"T_041cf_row2_col13\" class=\"data row2 col13\" >253</td>\n",
              "      <td id=\"T_041cf_row2_col14\" class=\"data row2 col14\" >233</td>\n",
              "      <td id=\"T_041cf_row2_col15\" class=\"data row2 col15\" >0</td>\n",
              "      <td id=\"T_041cf_row2_col16\" class=\"data row2 col16\" >0</td>\n",
              "      <td id=\"T_041cf_row2_col17\" class=\"data row2 col17\" >0</td>\n",
              "    </tr>\n",
              "    <tr>\n",
              "      <th id=\"T_041cf_level0_row3\" class=\"row_heading level0 row3\" >3</th>\n",
              "      <td id=\"T_041cf_row3_col0\" class=\"data row3 col0\" >0</td>\n",
              "      <td id=\"T_041cf_row3_col1\" class=\"data row3 col1\" >93</td>\n",
              "      <td id=\"T_041cf_row3_col2\" class=\"data row3 col2\" >244</td>\n",
              "      <td id=\"T_041cf_row3_col3\" class=\"data row3 col3\" >249</td>\n",
              "      <td id=\"T_041cf_row3_col4\" class=\"data row3 col4\" >253</td>\n",
              "      <td id=\"T_041cf_row3_col5\" class=\"data row3 col5\" >187</td>\n",
              "      <td id=\"T_041cf_row3_col6\" class=\"data row3 col6\" >46</td>\n",
              "      <td id=\"T_041cf_row3_col7\" class=\"data row3 col7\" >10</td>\n",
              "      <td id=\"T_041cf_row3_col8\" class=\"data row3 col8\" >8</td>\n",
              "      <td id=\"T_041cf_row3_col9\" class=\"data row3 col9\" >4</td>\n",
              "      <td id=\"T_041cf_row3_col10\" class=\"data row3 col10\" >10</td>\n",
              "      <td id=\"T_041cf_row3_col11\" class=\"data row3 col11\" >194</td>\n",
              "      <td id=\"T_041cf_row3_col12\" class=\"data row3 col12\" >253</td>\n",
              "      <td id=\"T_041cf_row3_col13\" class=\"data row3 col13\" >253</td>\n",
              "      <td id=\"T_041cf_row3_col14\" class=\"data row3 col14\" >233</td>\n",
              "      <td id=\"T_041cf_row3_col15\" class=\"data row3 col15\" >0</td>\n",
              "      <td id=\"T_041cf_row3_col16\" class=\"data row3 col16\" >0</td>\n",
              "      <td id=\"T_041cf_row3_col17\" class=\"data row3 col17\" >0</td>\n",
              "    </tr>\n",
              "    <tr>\n",
              "      <th id=\"T_041cf_level0_row4\" class=\"row_heading level0 row4\" >4</th>\n",
              "      <td id=\"T_041cf_row4_col0\" class=\"data row4 col0\" >0</td>\n",
              "      <td id=\"T_041cf_row4_col1\" class=\"data row4 col1\" >107</td>\n",
              "      <td id=\"T_041cf_row4_col2\" class=\"data row4 col2\" >253</td>\n",
              "      <td id=\"T_041cf_row4_col3\" class=\"data row4 col3\" >253</td>\n",
              "      <td id=\"T_041cf_row4_col4\" class=\"data row4 col4\" >230</td>\n",
              "      <td id=\"T_041cf_row4_col5\" class=\"data row4 col5\" >48</td>\n",
              "      <td id=\"T_041cf_row4_col6\" class=\"data row4 col6\" >0</td>\n",
              "      <td id=\"T_041cf_row4_col7\" class=\"data row4 col7\" >0</td>\n",
              "      <td id=\"T_041cf_row4_col8\" class=\"data row4 col8\" >0</td>\n",
              "      <td id=\"T_041cf_row4_col9\" class=\"data row4 col9\" >0</td>\n",
              "      <td id=\"T_041cf_row4_col10\" class=\"data row4 col10\" >0</td>\n",
              "      <td id=\"T_041cf_row4_col11\" class=\"data row4 col11\" >192</td>\n",
              "      <td id=\"T_041cf_row4_col12\" class=\"data row4 col12\" >253</td>\n",
              "      <td id=\"T_041cf_row4_col13\" class=\"data row4 col13\" >253</td>\n",
              "      <td id=\"T_041cf_row4_col14\" class=\"data row4 col14\" >156</td>\n",
              "      <td id=\"T_041cf_row4_col15\" class=\"data row4 col15\" >0</td>\n",
              "      <td id=\"T_041cf_row4_col16\" class=\"data row4 col16\" >0</td>\n",
              "      <td id=\"T_041cf_row4_col17\" class=\"data row4 col17\" >0</td>\n",
              "    </tr>\n",
              "    <tr>\n",
              "      <th id=\"T_041cf_level0_row5\" class=\"row_heading level0 row5\" >5</th>\n",
              "      <td id=\"T_041cf_row5_col0\" class=\"data row5 col0\" >0</td>\n",
              "      <td id=\"T_041cf_row5_col1\" class=\"data row5 col1\" >3</td>\n",
              "      <td id=\"T_041cf_row5_col2\" class=\"data row5 col2\" >20</td>\n",
              "      <td id=\"T_041cf_row5_col3\" class=\"data row5 col3\" >20</td>\n",
              "      <td id=\"T_041cf_row5_col4\" class=\"data row5 col4\" >15</td>\n",
              "      <td id=\"T_041cf_row5_col5\" class=\"data row5 col5\" >0</td>\n",
              "      <td id=\"T_041cf_row5_col6\" class=\"data row5 col6\" >0</td>\n",
              "      <td id=\"T_041cf_row5_col7\" class=\"data row5 col7\" >0</td>\n",
              "      <td id=\"T_041cf_row5_col8\" class=\"data row5 col8\" >0</td>\n",
              "      <td id=\"T_041cf_row5_col9\" class=\"data row5 col9\" >0</td>\n",
              "      <td id=\"T_041cf_row5_col10\" class=\"data row5 col10\" >43</td>\n",
              "      <td id=\"T_041cf_row5_col11\" class=\"data row5 col11\" >224</td>\n",
              "      <td id=\"T_041cf_row5_col12\" class=\"data row5 col12\" >253</td>\n",
              "      <td id=\"T_041cf_row5_col13\" class=\"data row5 col13\" >245</td>\n",
              "      <td id=\"T_041cf_row5_col14\" class=\"data row5 col14\" >74</td>\n",
              "      <td id=\"T_041cf_row5_col15\" class=\"data row5 col15\" >0</td>\n",
              "      <td id=\"T_041cf_row5_col16\" class=\"data row5 col16\" >0</td>\n",
              "      <td id=\"T_041cf_row5_col17\" class=\"data row5 col17\" >0</td>\n",
              "    </tr>\n",
              "    <tr>\n",
              "      <th id=\"T_041cf_level0_row6\" class=\"row_heading level0 row6\" >6</th>\n",
              "      <td id=\"T_041cf_row6_col0\" class=\"data row6 col0\" >0</td>\n",
              "      <td id=\"T_041cf_row6_col1\" class=\"data row6 col1\" >0</td>\n",
              "      <td id=\"T_041cf_row6_col2\" class=\"data row6 col2\" >0</td>\n",
              "      <td id=\"T_041cf_row6_col3\" class=\"data row6 col3\" >0</td>\n",
              "      <td id=\"T_041cf_row6_col4\" class=\"data row6 col4\" >0</td>\n",
              "      <td id=\"T_041cf_row6_col5\" class=\"data row6 col5\" >0</td>\n",
              "      <td id=\"T_041cf_row6_col6\" class=\"data row6 col6\" >0</td>\n",
              "      <td id=\"T_041cf_row6_col7\" class=\"data row6 col7\" >0</td>\n",
              "      <td id=\"T_041cf_row6_col8\" class=\"data row6 col8\" >0</td>\n",
              "      <td id=\"T_041cf_row6_col9\" class=\"data row6 col9\" >0</td>\n",
              "      <td id=\"T_041cf_row6_col10\" class=\"data row6 col10\" >249</td>\n",
              "      <td id=\"T_041cf_row6_col11\" class=\"data row6 col11\" >253</td>\n",
              "      <td id=\"T_041cf_row6_col12\" class=\"data row6 col12\" >245</td>\n",
              "      <td id=\"T_041cf_row6_col13\" class=\"data row6 col13\" >126</td>\n",
              "      <td id=\"T_041cf_row6_col14\" class=\"data row6 col14\" >0</td>\n",
              "      <td id=\"T_041cf_row6_col15\" class=\"data row6 col15\" >0</td>\n",
              "      <td id=\"T_041cf_row6_col16\" class=\"data row6 col16\" >0</td>\n",
              "      <td id=\"T_041cf_row6_col17\" class=\"data row6 col17\" >0</td>\n",
              "    </tr>\n",
              "    <tr>\n",
              "      <th id=\"T_041cf_level0_row7\" class=\"row_heading level0 row7\" >7</th>\n",
              "      <td id=\"T_041cf_row7_col0\" class=\"data row7 col0\" >0</td>\n",
              "      <td id=\"T_041cf_row7_col1\" class=\"data row7 col1\" >0</td>\n",
              "      <td id=\"T_041cf_row7_col2\" class=\"data row7 col2\" >0</td>\n",
              "      <td id=\"T_041cf_row7_col3\" class=\"data row7 col3\" >0</td>\n",
              "      <td id=\"T_041cf_row7_col4\" class=\"data row7 col4\" >0</td>\n",
              "      <td id=\"T_041cf_row7_col5\" class=\"data row7 col5\" >0</td>\n",
              "      <td id=\"T_041cf_row7_col6\" class=\"data row7 col6\" >0</td>\n",
              "      <td id=\"T_041cf_row7_col7\" class=\"data row7 col7\" >14</td>\n",
              "      <td id=\"T_041cf_row7_col8\" class=\"data row7 col8\" >101</td>\n",
              "      <td id=\"T_041cf_row7_col9\" class=\"data row7 col9\" >223</td>\n",
              "      <td id=\"T_041cf_row7_col10\" class=\"data row7 col10\" >253</td>\n",
              "      <td id=\"T_041cf_row7_col11\" class=\"data row7 col11\" >248</td>\n",
              "      <td id=\"T_041cf_row7_col12\" class=\"data row7 col12\" >124</td>\n",
              "      <td id=\"T_041cf_row7_col13\" class=\"data row7 col13\" >0</td>\n",
              "      <td id=\"T_041cf_row7_col14\" class=\"data row7 col14\" >0</td>\n",
              "      <td id=\"T_041cf_row7_col15\" class=\"data row7 col15\" >0</td>\n",
              "      <td id=\"T_041cf_row7_col16\" class=\"data row7 col16\" >0</td>\n",
              "      <td id=\"T_041cf_row7_col17\" class=\"data row7 col17\" >0</td>\n",
              "    </tr>\n",
              "    <tr>\n",
              "      <th id=\"T_041cf_level0_row8\" class=\"row_heading level0 row8\" >8</th>\n",
              "      <td id=\"T_041cf_row8_col0\" class=\"data row8 col0\" >0</td>\n",
              "      <td id=\"T_041cf_row8_col1\" class=\"data row8 col1\" >0</td>\n",
              "      <td id=\"T_041cf_row8_col2\" class=\"data row8 col2\" >0</td>\n",
              "      <td id=\"T_041cf_row8_col3\" class=\"data row8 col3\" >0</td>\n",
              "      <td id=\"T_041cf_row8_col4\" class=\"data row8 col4\" >0</td>\n",
              "      <td id=\"T_041cf_row8_col5\" class=\"data row8 col5\" >11</td>\n",
              "      <td id=\"T_041cf_row8_col6\" class=\"data row8 col6\" >166</td>\n",
              "      <td id=\"T_041cf_row8_col7\" class=\"data row8 col7\" >239</td>\n",
              "      <td id=\"T_041cf_row8_col8\" class=\"data row8 col8\" >253</td>\n",
              "      <td id=\"T_041cf_row8_col9\" class=\"data row8 col9\" >253</td>\n",
              "      <td id=\"T_041cf_row8_col10\" class=\"data row8 col10\" >253</td>\n",
              "      <td id=\"T_041cf_row8_col11\" class=\"data row8 col11\" >187</td>\n",
              "      <td id=\"T_041cf_row8_col12\" class=\"data row8 col12\" >30</td>\n",
              "      <td id=\"T_041cf_row8_col13\" class=\"data row8 col13\" >0</td>\n",
              "      <td id=\"T_041cf_row8_col14\" class=\"data row8 col14\" >0</td>\n",
              "      <td id=\"T_041cf_row8_col15\" class=\"data row8 col15\" >0</td>\n",
              "      <td id=\"T_041cf_row8_col16\" class=\"data row8 col16\" >0</td>\n",
              "      <td id=\"T_041cf_row8_col17\" class=\"data row8 col17\" >0</td>\n",
              "    </tr>\n",
              "    <tr>\n",
              "      <th id=\"T_041cf_level0_row9\" class=\"row_heading level0 row9\" >9</th>\n",
              "      <td id=\"T_041cf_row9_col0\" class=\"data row9 col0\" >0</td>\n",
              "      <td id=\"T_041cf_row9_col1\" class=\"data row9 col1\" >0</td>\n",
              "      <td id=\"T_041cf_row9_col2\" class=\"data row9 col2\" >0</td>\n",
              "      <td id=\"T_041cf_row9_col3\" class=\"data row9 col3\" >0</td>\n",
              "      <td id=\"T_041cf_row9_col4\" class=\"data row9 col4\" >0</td>\n",
              "      <td id=\"T_041cf_row9_col5\" class=\"data row9 col5\" >16</td>\n",
              "      <td id=\"T_041cf_row9_col6\" class=\"data row9 col6\" >248</td>\n",
              "      <td id=\"T_041cf_row9_col7\" class=\"data row9 col7\" >250</td>\n",
              "      <td id=\"T_041cf_row9_col8\" class=\"data row9 col8\" >253</td>\n",
              "      <td id=\"T_041cf_row9_col9\" class=\"data row9 col9\" >253</td>\n",
              "      <td id=\"T_041cf_row9_col10\" class=\"data row9 col10\" >253</td>\n",
              "      <td id=\"T_041cf_row9_col11\" class=\"data row9 col11\" >253</td>\n",
              "      <td id=\"T_041cf_row9_col12\" class=\"data row9 col12\" >232</td>\n",
              "      <td id=\"T_041cf_row9_col13\" class=\"data row9 col13\" >213</td>\n",
              "      <td id=\"T_041cf_row9_col14\" class=\"data row9 col14\" >111</td>\n",
              "      <td id=\"T_041cf_row9_col15\" class=\"data row9 col15\" >2</td>\n",
              "      <td id=\"T_041cf_row9_col16\" class=\"data row9 col16\" >0</td>\n",
              "      <td id=\"T_041cf_row9_col17\" class=\"data row9 col17\" >0</td>\n",
              "    </tr>\n",
              "    <tr>\n",
              "      <th id=\"T_041cf_level0_row10\" class=\"row_heading level0 row10\" >10</th>\n",
              "      <td id=\"T_041cf_row10_col0\" class=\"data row10 col0\" >0</td>\n",
              "      <td id=\"T_041cf_row10_col1\" class=\"data row10 col1\" >0</td>\n",
              "      <td id=\"T_041cf_row10_col2\" class=\"data row10 col2\" >0</td>\n",
              "      <td id=\"T_041cf_row10_col3\" class=\"data row10 col3\" >0</td>\n",
              "      <td id=\"T_041cf_row10_col4\" class=\"data row10 col4\" >0</td>\n",
              "      <td id=\"T_041cf_row10_col5\" class=\"data row10 col5\" >0</td>\n",
              "      <td id=\"T_041cf_row10_col6\" class=\"data row10 col6\" >0</td>\n",
              "      <td id=\"T_041cf_row10_col7\" class=\"data row10 col7\" >43</td>\n",
              "      <td id=\"T_041cf_row10_col8\" class=\"data row10 col8\" >98</td>\n",
              "      <td id=\"T_041cf_row10_col9\" class=\"data row10 col9\" >98</td>\n",
              "      <td id=\"T_041cf_row10_col10\" class=\"data row10 col10\" >208</td>\n",
              "      <td id=\"T_041cf_row10_col11\" class=\"data row10 col11\" >253</td>\n",
              "      <td id=\"T_041cf_row10_col12\" class=\"data row10 col12\" >253</td>\n",
              "      <td id=\"T_041cf_row10_col13\" class=\"data row10 col13\" >253</td>\n",
              "      <td id=\"T_041cf_row10_col14\" class=\"data row10 col14\" >253</td>\n",
              "      <td id=\"T_041cf_row10_col15\" class=\"data row10 col15\" >187</td>\n",
              "      <td id=\"T_041cf_row10_col16\" class=\"data row10 col16\" >22</td>\n",
              "      <td id=\"T_041cf_row10_col17\" class=\"data row10 col17\" >0</td>\n",
              "    </tr>\n",
              "  </tbody>\n",
              "</table>\n"
            ]
          },
          "metadata": {},
          "execution_count": 257
        }
      ]
    },
    {
      "cell_type": "markdown",
      "source": [
        "**는 Python의 딕셔너리(dictionary)에 사용되는 특별한 구문으로, 딕셔너리에 있는 키-값 쌍을 함수 호출 시 인자로 전달할 때 사용됩니다. 이를 키워드 인자(unpacking)라고도 합니다."
      ],
      "metadata": {
        "id": "oyhntWZjFaek"
      }
    },
    {
      "cell_type": "code",
      "source": [
        "seven_tensors = [tensor(Image.open(o)) for o in sevens]\n",
        "threes_tensors = [tensor(Image.open(o)) for o in threes]\n",
        "\n",
        "len(seven_tensors), len(threes_tensors)"
      ],
      "metadata": {
        "colab": {
          "base_uri": "https://localhost:8080/"
        },
        "id": "Ty8_MeQtFdrb",
        "outputId": "d681c81b-fc5e-4c04-9a17-2dde84d43098"
      },
      "execution_count": 258,
      "outputs": [
        {
          "output_type": "execute_result",
          "data": {
            "text/plain": [
              "(6265, 6131)"
            ]
          },
          "metadata": {},
          "execution_count": 258
        }
      ]
    },
    {
      "cell_type": "markdown",
      "source": [
        "모든 이미지를 감는 텐서 구현\n",
        "텐서는 픽셀 하나하나 의미"
      ],
      "metadata": {
        "id": "A4dUkuQvGyoK"
      }
    },
    {
      "cell_type": "code",
      "source": [
        "stacked_sevens = torch.stack(seven_tensors).float()/255\n",
        "stacked_threes = torch.stack(threes_tensors).float()/255\n",
        "stacked_threes.shape"
      ],
      "metadata": {
        "colab": {
          "base_uri": "https://localhost:8080/"
        },
        "id": "6wM5B_VyH2KZ",
        "outputId": "bb656315-0fc8-45cc-a63c-3f8136c28396"
      },
      "execution_count": 259,
      "outputs": [
        {
          "output_type": "execute_result",
          "data": {
            "text/plain": [
              "torch.Size([6131, 28, 28])"
            ]
          },
          "metadata": {},
          "execution_count": 259
        }
      ]
    },
    {
      "cell_type": "code",
      "source": [
        "len(stacked_threes.shape)"
      ],
      "metadata": {
        "colab": {
          "base_uri": "https://localhost:8080/"
        },
        "id": "P3x3ZYoIih-W",
        "outputId": "82e4c896-cd91-4c6b-e013-49ca4be6736b"
      },
      "execution_count": 260,
      "outputs": [
        {
          "output_type": "execute_result",
          "data": {
            "text/plain": [
              "3"
            ]
          },
          "metadata": {},
          "execution_count": 260
        }
      ]
    },
    {
      "cell_type": "code",
      "source": [
        "stacked_threes.ndim"
      ],
      "metadata": {
        "colab": {
          "base_uri": "https://localhost:8080/"
        },
        "id": "8d4VYtE0igym",
        "outputId": "8beae3d8-83e1-472e-eee5-7d9f295bd501"
      },
      "execution_count": 261,
      "outputs": [
        {
          "output_type": "execute_result",
          "data": {
            "text/plain": [
              "3"
            ]
          },
          "metadata": {},
          "execution_count": 261
        }
      ]
    },
    {
      "cell_type": "code",
      "source": [
        "mean3 = stacked_threes.mean(0)\n",
        "show_image(mean3);"
      ],
      "metadata": {
        "colab": {
          "base_uri": "https://localhost:8080/",
          "height": 114
        },
        "id": "v0x38BxyjuBm",
        "outputId": "6d30812f-a114-4438-a36a-0f6e8445682e"
      },
      "execution_count": 262,
      "outputs": [
        {
          "output_type": "display_data",
          "data": {
            "text/plain": [
              "<Figure size 100x100 with 1 Axes>"
            ],
            "image/png": "[encoded data removed]"
          },
          "metadata": {}
        }
      ]
    },
    {
      "cell_type": "code",
      "source": [
        "mean7 = stacked_sevens.mean(0)\n",
        "show_image(mean7);"
      ],
      "metadata": {
        "colab": {
          "base_uri": "https://localhost:8080/",
          "height": 114
        },
        "id": "qwKTlwmtj81w",
        "outputId": "ea2eb9d0-855e-420a-cb59-a57acdcb5231"
      },
      "execution_count": 263,
      "outputs": [
        {
          "output_type": "display_data",
          "data": {
            "text/plain": [
              "<Figure size 100x100 with 1 Axes>"
            ],
            "image/png": "[encoded data removed]"
          },
          "metadata": {}
        }
      ]
    },
    {
      "cell_type": "code",
      "source": [
        "a_3 = stacked_threes[6000]\n",
        "show_image(a_3)"
      ],
      "metadata": {
        "colab": {
          "base_uri": "https://localhost:8080/",
          "height": 132
        },
        "id": "_l4kVqLFkIp5",
        "outputId": "75cead7e-2561-4771-9b50-e90e0b7db4bd"
      },
      "execution_count": 264,
      "outputs": [
        {
          "output_type": "execute_result",
          "data": {
            "text/plain": [
              "<Axes: >"
            ]
          },
          "metadata": {},
          "execution_count": 264
        },
        {
          "output_type": "display_data",
          "data": {
            "text/plain": [
              "<Figure size 100x100 with 1 Axes>"
            ],
            "image/png": "[encoded data removed]"
          },
          "metadata": {}
        }
      ]
    },
    {
      "cell_type": "code",
      "source": [
        "dist_3_abs = (a_3 - mean3).abs().mean()\n",
        "dist_3_sqr = ((a_3 - mean3)**2).mean().sqrt()\n",
        "dist_3_abs,dist_3_sqr"
      ],
      "metadata": {
        "colab": {
          "base_uri": "https://localhost:8080/"
        },
        "id": "ZQN3Zc-HmSff",
        "outputId": "0ec90bcc-9dbc-472c-8c85-83c74f0e7241"
      },
      "execution_count": 265,
      "outputs": [
        {
          "output_type": "execute_result",
          "data": {
            "text/plain": [
              "(tensor(0.1319), tensor(0.2389))"
            ]
          },
          "metadata": {},
          "execution_count": 265
        }
      ]
    },
    {
      "cell_type": "code",
      "source": [
        "dist_7_abs = (a_3 - mean7).abs().mean()\n",
        "dist_7_sqr = ((a_3 - mean7)**2).mean().sqrt()\n",
        "dist_7_abs,dist_7_sqr"
      ],
      "metadata": {
        "colab": {
          "base_uri": "https://localhost:8080/"
        },
        "id": "msVTDLyuncuJ",
        "outputId": "b2b083de-a5ac-43f5-80d6-b2faec5fbe55"
      },
      "execution_count": 266,
      "outputs": [
        {
          "output_type": "execute_result",
          "data": {
            "text/plain": [
              "(tensor(0.1334), tensor(0.2608))"
            ]
          },
          "metadata": {},
          "execution_count": 266
        }
      ]
    },
    {
      "cell_type": "code",
      "source": [
        "F.l1_loss(a_3.float(), mean7), F.mse_loss(a_3, mean7).sqrt()"
      ],
      "metadata": {
        "colab": {
          "base_uri": "https://localhost:8080/"
        },
        "id": "rMzCTxwBnfUs",
        "outputId": "d36a5c33-7000-4df0-9750-4170eccfda2c"
      },
      "execution_count": 267,
      "outputs": [
        {
          "output_type": "execute_result",
          "data": {
            "text/plain": [
              "(tensor(0.1334), tensor(0.2608))"
            ]
          },
          "metadata": {},
          "execution_count": 267
        }
      ]
    },
    {
      "cell_type": "code",
      "source": [
        "data = [[1,2,3], [4,5,6]]\n",
        "arr = array(data)\n",
        "tns = tensor(data)"
      ],
      "metadata": {
        "id": "-PIaxQV7ne2f"
      },
      "execution_count": 268,
      "outputs": []
    },
    {
      "cell_type": "code",
      "source": [
        "tns[1]"
      ],
      "metadata": {
        "colab": {
          "base_uri": "https://localhost:8080/"
        },
        "id": "e3pAbZaappM4",
        "outputId": "76e9c01b-cf40-46cb-ac96-42a75e36ba94"
      },
      "execution_count": 269,
      "outputs": [
        {
          "output_type": "execute_result",
          "data": {
            "text/plain": [
              "tensor([4, 5, 6])"
            ]
          },
          "metadata": {},
          "execution_count": 269
        }
      ]
    },
    {
      "cell_type": "code",
      "source": [
        "tns[:,0]"
      ],
      "metadata": {
        "colab": {
          "base_uri": "https://localhost:8080/"
        },
        "id": "n-3mUe7uqFTs",
        "outputId": "882b1e75-61e1-4773-b238-dedad40a1e80"
      },
      "execution_count": 270,
      "outputs": [
        {
          "output_type": "execute_result",
          "data": {
            "text/plain": [
              "tensor([1, 4])"
            ]
          },
          "metadata": {},
          "execution_count": 270
        }
      ]
    },
    {
      "cell_type": "code",
      "source": [
        "tns[1,1:3]"
      ],
      "metadata": {
        "colab": {
          "base_uri": "https://localhost:8080/"
        },
        "id": "Jgfq34KsqKNT",
        "outputId": "8a9bcebd-a809-44e5-e4cb-da8931751e40"
      },
      "execution_count": 271,
      "outputs": [
        {
          "output_type": "execute_result",
          "data": {
            "text/plain": [
              "tensor([5, 6])"
            ]
          },
          "metadata": {},
          "execution_count": 271
        }
      ]
    },
    {
      "cell_type": "code",
      "source": [
        "tns+1"
      ],
      "metadata": {
        "colab": {
          "base_uri": "https://localhost:8080/"
        },
        "id": "FPb0hPxlrWs9",
        "outputId": "6373376f-1c82-47f6-ab17-1c0c1d073e76"
      },
      "execution_count": 272,
      "outputs": [
        {
          "output_type": "execute_result",
          "data": {
            "text/plain": [
              "tensor([[2, 3, 4],\n",
              "        [5, 6, 7]])"
            ]
          },
          "metadata": {},
          "execution_count": 272
        }
      ]
    },
    {
      "cell_type": "code",
      "source": [
        "tns.type()"
      ],
      "metadata": {
        "colab": {
          "base_uri": "https://localhost:8080/",
          "height": 35
        },
        "id": "sge4i40xrZW0",
        "outputId": "ff73f592-e028-48bf-ca7e-72392db67470"
      },
      "execution_count": 273,
      "outputs": [
        {
          "output_type": "execute_result",
          "data": {
            "text/plain": [
              "'torch.LongTensor'"
            ],
            "application/vnd.google.colaboratory.intrinsic+json": {
              "type": "string"
            }
          },
          "metadata": {},
          "execution_count": 273
        }
      ]
    },
    {
      "cell_type": "code",
      "source": [
        "tns*1.5"
      ],
      "metadata": {
        "colab": {
          "base_uri": "https://localhost:8080/"
        },
        "id": "xmz_CBV4rdby",
        "outputId": "9c77885c-f6ce-4cb2-a230-320ceb60aa85"
      },
      "execution_count": 274,
      "outputs": [
        {
          "output_type": "execute_result",
          "data": {
            "text/plain": [
              "tensor([[1.5000, 3.0000, 4.5000],\n",
              "        [6.0000, 7.5000, 9.0000]])"
            ]
          },
          "metadata": {},
          "execution_count": 274
        }
      ]
    },
    {
      "cell_type": "code",
      "source": [
        "valid_3_tens = torch.stack([tensor(Image.open(o)) for o in (path/'valid'/'3').ls()])\n",
        "valid_3_tens = valid_3_tens.float()/255\n",
        "\n",
        "valid_7_tens = torch.stack([tensor(Image.open(o)) for o in  (path/'valid'/'7').ls()])\n",
        "valid_7_tens = valid_7_tens.float()/255\n",
        "\n",
        "valid_3_tens.shape, valid_7_tens.shape"
      ],
      "metadata": {
        "colab": {
          "base_uri": "https://localhost:8080/"
        },
        "id": "CKc3JPixrj99",
        "outputId": "affc330b-4969-4cbd-9f4b-ce83f86514d8"
      },
      "execution_count": 275,
      "outputs": [
        {
          "output_type": "execute_result",
          "data": {
            "text/plain": [
              "(torch.Size([1010, 28, 28]), torch.Size([1028, 28, 28]))"
            ]
          },
          "metadata": {},
          "execution_count": 275
        }
      ]
    },
    {
      "cell_type": "markdown",
      "source": [
        "픽셀이 1010개가 아니라 관련 이미지가 1010개"
      ],
      "metadata": {
        "id": "hvbluENyueBz"
      }
    },
    {
      "cell_type": "code",
      "source": [
        "def mnist_distance(a,b): return (a-b).abs().mean((-1,-2))\n",
        "mnist_distance(a_3,mean3)"
      ],
      "metadata": {
        "colab": {
          "base_uri": "https://localhost:8080/"
        },
        "id": "AblFrvh0tgyn",
        "outputId": "8f75a876-fc3e-4471-ab68-8b7bc02998bd"
      },
      "execution_count": 276,
      "outputs": [
        {
          "output_type": "execute_result",
          "data": {
            "text/plain": [
              "tensor(0.1319)"
            ]
          },
          "metadata": {},
          "execution_count": 276
        }
      ]
    },
    {
      "cell_type": "code",
      "source": [
        "valid_3_dist = mnist_distance(valid_3_tens, mean3)\n",
        "valid_3_dist, valid_3_dist.shape"
      ],
      "metadata": {
        "colab": {
          "base_uri": "https://localhost:8080/"
        },
        "id": "nb6Sr4Tfui54",
        "outputId": "0359dede-ce40-4a44-c003-914733698004"
      },
      "execution_count": 277,
      "outputs": [
        {
          "output_type": "execute_result",
          "data": {
            "text/plain": [
              "(tensor([0.1973, 0.1181, 0.1080,  ..., 0.1207, 0.1487, 0.1222]),\n",
              " torch.Size([1010]))"
            ]
          },
          "metadata": {},
          "execution_count": 277
        }
      ]
    },
    {
      "cell_type": "markdown",
      "source": [
        "브로드 캐스팅이 일어나 mean3가 valid 텐서보다 작은데도 불구하고 오류가 일어나지 않음"
      ],
      "metadata": {
        "id": "mNeHuVN3xIot"
      }
    },
    {
      "cell_type": "code",
      "source": [
        "def is_3(x): return mnist_distance(x,mean3) < mnist_distance(x, mean7)"
      ],
      "metadata": {
        "id": "xwWXeqX6xPO6"
      },
      "execution_count": 278,
      "outputs": []
    },
    {
      "cell_type": "markdown",
      "source": [
        "입력 노름이 3보다 7에 가까우면 false를 반환\n"
      ],
      "metadata": {
        "id": "RDJJRIk6cA7Y"
      }
    },
    {
      "cell_type": "code",
      "source": [
        "accuracy_3s = is_3(valid_3_tens).float().mean()\n",
        "accuracy_7s = (1 - is_3(valid_7_tens).float()).mean()\n",
        "\n",
        "accuracy_3s, accuracy_7s, (accuracy_3s + accuracy_7s) / 2\n"
      ],
      "metadata": {
        "colab": {
          "base_uri": "https://localhost:8080/"
        },
        "id": "DkiZaEpobXoo",
        "outputId": "29a9c1d3-7a48-4382-bc51-8ea782643097"
      },
      "execution_count": 279,
      "outputs": [
        {
          "output_type": "execute_result",
          "data": {
            "text/plain": [
              "(tensor(0.9168), tensor(0.9854), tensor(0.9511))"
            ]
          },
          "metadata": {},
          "execution_count": 279
        }
      ]
    },
    {
      "cell_type": "markdown",
      "source": [
        "정확도를 검사"
      ],
      "metadata": {
        "id": "tXiHCxGichfZ"
      }
    },
    {
      "cell_type": "code",
      "source": [
        "def pr_three(x,w): return (x*w).sum()"
      ],
      "metadata": {
        "id": "eiSe5_IXckto"
      },
      "execution_count": 280,
      "outputs": []
    },
    {
      "cell_type": "markdown",
      "source": [
        "SGD **시작** 위 함수는 3이 될 확률"
      ],
      "metadata": {
        "id": "ezkWC4AMdmx4"
      }
    },
    {
      "cell_type": "code",
      "source": [
        "def f(x): return x**2"
      ],
      "metadata": {
        "id": "HJbMcCVCd095"
      },
      "execution_count": 281,
      "outputs": []
    },
    {
      "cell_type": "code",
      "source": [
        "import numpy as np\n",
        "import matplotlib.pyplot as plt"
      ],
      "metadata": {
        "id": "YsuaSYDy0Jy9"
      },
      "execution_count": 282,
      "outputs": []
    },
    {
      "cell_type": "code",
      "source": [
        "def plot_function(f, start, end, k):\n",
        "    x = np.linspace(start, end, 1000)\n",
        "    y = f(x)\n",
        "    plt.plot(x, y)\n",
        "    plt.xlabel('x')\n",
        "    plt.ylabel('x**2')\n",
        "    plt.scatter(k, f(k), color = 'red')\n",
        "    plt.title('Plot of ' + str(f))\n",
        "    plt.grid(True)\n",
        "    plt.show()"
      ],
      "metadata": {
        "id": "1CuJXiiAvO7Y"
      },
      "execution_count": 283,
      "outputs": []
    },
    {
      "cell_type": "code",
      "source": [
        "plot_function(f, -2, 2, -1.5)"
      ],
      "metadata": {
        "colab": {
          "base_uri": "https://localhost:8080/",
          "height": 481
        },
        "id": "xMCrcmG2vWh4",
        "outputId": "68b2432d-9855-484a-854a-e3120a1d300e"
      },
      "execution_count": 284,
      "outputs": [
        {
          "output_type": "display_data",
          "data": {
            "text/plain": [
              "<Figure size 640x480 with 1 Axes>"
            ],
            "image/png": "[encoded data removed]"
          },
          "metadata": {}
        }
      ]
    },
    {
      "cell_type": "code",
      "source": [
        "xt = tensor(3.).requires_grad_()"
      ],
      "metadata": {
        "id": "qg9otgGN053N"
      },
      "execution_count": 285,
      "outputs": []
    },
    {
      "cell_type": "markdown",
      "source": [
        "기울기를 구\n",
        "\n",
        "requires_grad_()\n",
        "```\n",
        "\n",
        "하는 함수"
      ],
      "metadata": {
        "id": "5-QalBxb2cwI"
      }
    },
    {
      "cell_type": "code",
      "source": [
        "yt = f(xt)\n",
        "yt"
      ],
      "metadata": {
        "colab": {
          "base_uri": "https://localhost:8080/"
        },
        "id": "25k2tTfN2Hjg",
        "outputId": "2e04e484-6999-441f-c5dc-b6544f067b14"
      },
      "execution_count": 286,
      "outputs": [
        {
          "output_type": "execute_result",
          "data": {
            "text/plain": [
              "tensor(9., grad_fn=<PowBackward0>)"
            ]
          },
          "metadata": {},
          "execution_count": 286
        }
      ]
    },
    {
      "cell_type": "code",
      "source": [
        "yt.backward()"
      ],
      "metadata": {
        "id": "agexga6H2LA2"
      },
      "execution_count": 287,
      "outputs": []
    },
    {
      "cell_type": "code",
      "source": [
        "xt.grad"
      ],
      "metadata": {
        "colab": {
          "base_uri": "https://localhost:8080/"
        },
        "id": "fCGIxlh42W0L",
        "outputId": "1e040efa-1873-4e7c-a1b0-af9be79bc506"
      },
      "execution_count": 288,
      "outputs": [
        {
          "output_type": "execute_result",
          "data": {
            "text/plain": [
              "tensor(6.)"
            ]
          },
          "metadata": {},
          "execution_count": 288
        }
      ]
    },
    {
      "cell_type": "code",
      "source": [
        "xt = tensor([3., 4., 10.]).requires_grad_()\n",
        "xt"
      ],
      "metadata": {
        "colab": {
          "base_uri": "https://localhost:8080/"
        },
        "id": "L_BXs1SP2nMD",
        "outputId": "aea34301-d96c-4f2b-fa43-99330b336b77"
      },
      "execution_count": 289,
      "outputs": [
        {
          "output_type": "execute_result",
          "data": {
            "text/plain": [
              "tensor([ 3.,  4., 10.], requires_grad=True)"
            ]
          },
          "metadata": {},
          "execution_count": 289
        }
      ]
    },
    {
      "cell_type": "code",
      "source": [
        "def f(x): return (x**2).sum()\n",
        "\n",
        "yt = f(xt)\n",
        "yt"
      ],
      "metadata": {
        "colab": {
          "base_uri": "https://localhost:8080/"
        },
        "id": "ziIoLhZT2xlN",
        "outputId": "9d3572b7-b406-411b-ad7d-ba5e3e4b82ab"
      },
      "execution_count": 290,
      "outputs": [
        {
          "output_type": "execute_result",
          "data": {
            "text/plain": [
              "tensor(125., grad_fn=<SumBackward0>)"
            ]
          },
          "metadata": {},
          "execution_count": 290
        }
      ]
    },
    {
      "cell_type": "code",
      "source": [
        "yt.backward()\n",
        "xt.grad"
      ],
      "metadata": {
        "colab": {
          "base_uri": "https://localhost:8080/"
        },
        "id": "ofp4dZiJ3GOQ",
        "outputId": "ec8c5cab-bdf6-420a-a137-5a08b1af2bab"
      },
      "execution_count": 291,
      "outputs": [
        {
          "output_type": "execute_result",
          "data": {
            "text/plain": [
              "tensor([ 6.,  8., 20.])"
            ]
          },
          "metadata": {},
          "execution_count": 291
        }
      ]
    },
    {
      "cell_type": "code",
      "source": [
        "time = torch.arange(0,20).float();\n",
        "time"
      ],
      "metadata": {
        "colab": {
          "base_uri": "https://localhost:8080/"
        },
        "id": "swA-o9og3Rbd",
        "outputId": "ff42c6fc-d021-44a0-f874-c735495acbb3"
      },
      "execution_count": 292,
      "outputs": [
        {
          "output_type": "execute_result",
          "data": {
            "text/plain": [
              "tensor([ 0.,  1.,  2.,  3.,  4.,  5.,  6.,  7.,  8.,  9., 10., 11., 12., 13., 14., 15., 16., 17., 18., 19.])"
            ]
          },
          "metadata": {},
          "execution_count": 292
        }
      ]
    },
    {
      "cell_type": "markdown",
      "source": [
        "SGD를 활용한 시작부터 끝까지를 보여주는 예제"
      ],
      "metadata": {
        "id": "er4E2shS34si"
      }
    },
    {
      "cell_type": "code",
      "source": [
        "speed = torch.randn(20)*3 + 0.75*(time-9.5)**2+1\n",
        "plt.scatter(time,speed);"
      ],
      "metadata": {
        "colab": {
          "base_uri": "https://localhost:8080/",
          "height": 434
        },
        "id": "pZJ7TFhx4HFH",
        "outputId": "73ac013f-da07-4839-f64a-946ae2be4165"
      },
      "execution_count": 293,
      "outputs": [
        {
          "output_type": "display_data",
          "data": {
            "text/plain": [
              "<Figure size 640x480 with 1 Axes>"
            ],
            "image/png": "[encoded data removed]"
          },
          "metadata": {}
        }
      ]
    },
    {
      "cell_type": "code",
      "source": [
        "def f(t, params):\n",
        "  a,b,c = params\n",
        "  return a*(t**2) + (b*t) + c"
      ],
      "metadata": {
        "id": "yufj96JE4y8i"
      },
      "execution_count": 294,
      "outputs": []
    },
    {
      "cell_type": "code",
      "source": [
        "def mse(preds, targets): return ((preds-targets)**2).mean().sqrt()"
      ],
      "metadata": {
        "id": "BloURiD24-F-"
      },
      "execution_count": 295,
      "outputs": []
    },
    {
      "cell_type": "markdown",
      "source": [
        "회귀에서는 mse를 많이 사용한다. 미분 가능성: MSE는 간단하고 미분 가능한 함수입니다. 이로 인해 경사 하강법(GD)과 같은 최적화 알고리즘을 사용하여 모델의 가중치를 업데이트하는 데에 용이합니다.\n",
        "\n",
        "제곱 오차: MSE는 오차를 제곱하여 계산합니다. 이로 인해 오차가 큰 값에 더 큰 패널티를 주게 되어, 오차의 크기에 따라 가중치가 조절되는 효과를 가집니다. 오차를 제곱하기 때문에 양수 값으로 평가되며, 오차의 절대값보다 큰 오차에 더 많은 영향을 받습니다.\n",
        "\n",
        "이상치에 덜 민감함: MSE는 이상치(outlier)에 상대적으로 덜 민감합니다. 이상치는 실제 값과 예측 값 간의 큰 차이를 가지는 데이터 포인트를 의미합니다. MSE는 오차를 제곱하고 평균을 취하기 때문에 이상치에 대한 영향을 감소시킵니다.\n",
        "\n",
        "최소화 목표: MSE는 오차를 최소화하는 것이 목표입니다. 회귀에서는 실제 값과 예측 값의 차이를 최소화하는 것이 중요합니다. MSE는 이러한 목표를 달성하는 데에 적합한 지표입니다."
      ],
      "metadata": {
        "id": "agRX49bK5Int"
      }
    },
    {
      "cell_type": "code",
      "source": [
        "params = torch.randn(3).requires_grad_()"
      ],
      "metadata": {
        "id": "fjmD-uWH5_gw"
      },
      "execution_count": 296,
      "outputs": []
    },
    {
      "cell_type": "markdown",
      "source": [
        "파이토피를 사용하여 3개의 랜덤한 숫자로 이루어진 텐서를 생성"
      ],
      "metadata": {
        "id": "qgGYV_PC6uZ_"
      }
    },
    {
      "cell_type": "code",
      "source": [
        "preds = f(time, params)"
      ],
      "metadata": {
        "id": "dDTJPh0M5qtV"
      },
      "execution_count": 297,
      "outputs": []
    },
    {
      "cell_type": "markdown",
      "source": [
        "시간에 따른 에측값 반환"
      ],
      "metadata": {
        "id": "tNYdieNU8JXj"
      }
    },
    {
      "cell_type": "code",
      "source": [
        "def show_preds(preds, ax = None):\n",
        "  if ax is None: ax = plt.subplots()[1]\n",
        "  ax.scatter(time, speed)\n",
        "  ax.scatter(time, to_np(preds), color = 'red')\n",
        "  ax.set_ylim(-300, 100)"
      ],
      "metadata": {
        "id": "SgamPwf-5qpz"
      },
      "execution_count": 298,
      "outputs": []
    },
    {
      "cell_type": "code",
      "source": [
        "show_preds(preds)"
      ],
      "metadata": {
        "colab": {
          "base_uri": "https://localhost:8080/",
          "height": 441
        },
        "id": "8-js1TMj7FOZ",
        "outputId": "40dfdc93-2692-4798-e297-3df37d98b2be"
      },
      "execution_count": 299,
      "outputs": [
        {
          "output_type": "display_data",
          "data": {
            "text/plain": [
              "<Figure size 640x480 with 1 Axes>"
            ],
            "image/png": "[encoded data removed]"
          },
          "metadata": {}
        }
      ]
    },
    {
      "cell_type": "code",
      "source": [
        "loss = mse(preds, speed)\n",
        "loss"
      ],
      "metadata": {
        "colab": {
          "base_uri": "https://localhost:8080/"
        },
        "id": "X5NRtN938ssY",
        "outputId": "0b13dc69-631e-41cc-da25-d863da92cba5"
      },
      "execution_count": 300,
      "outputs": [
        {
          "output_type": "execute_result",
          "data": {
            "text/plain": [
              "tensor(193.8673, grad_fn=<SqrtBackward0>)"
            ]
          },
          "metadata": {},
          "execution_count": 300
        }
      ]
    },
    {
      "cell_type": "code",
      "source": [
        "loss.backward()\n",
        "params.grad *(1e-5)"
      ],
      "metadata": {
        "colab": {
          "base_uri": "https://localhost:8080/"
        },
        "id": "ISQrlEfY9wyy",
        "outputId": "1db36c4e-fd9d-411f-a2f0-b67dd956b67d"
      },
      "execution_count": 301,
      "outputs": [
        {
          "output_type": "execute_result",
          "data": {
            "text/plain": [
              "tensor([1.6625e-03, 1.0737e-04, 6.9689e-06])"
            ]
          },
          "metadata": {},
          "execution_count": 301
        }
      ]
    },
    {
      "cell_type": "markdown",
      "source": [
        "함수에 넣어서 결과값을 받은다음 backward로 기울기를 계산해야함 mse도 함수이기 때문"
      ],
      "metadata": {
        "id": "WivpGMem_lF4"
      }
    },
    {
      "cell_type": "code",
      "source": [
        "params"
      ],
      "metadata": {
        "colab": {
          "base_uri": "https://localhost:8080/"
        },
        "id": "mdnPBGoYAFFt",
        "outputId": "46034523-4f10-49e2-ef22-c0f7d2540883"
      },
      "execution_count": 302,
      "outputs": [
        {
          "output_type": "execute_result",
          "data": {
            "text/plain": [
              "tensor([ 1.1989,  1.3474, -0.0660], requires_grad=True)"
            ]
          },
          "metadata": {},
          "execution_count": 302
        }
      ]
    },
    {
      "cell_type": "code",
      "source": [
        "lr = 1e-4\n",
        "params.data -= lr * params.grad.data\n",
        "params.grad = None"
      ],
      "metadata": {
        "id": "tcWFFqmaAKY2"
      },
      "execution_count": 303,
      "outputs": []
    },
    {
      "cell_type": "markdown",
      "source": [
        "params.data -= lr * params.grad.data 는 데이터를 수정 학습률을 통해서"
      ],
      "metadata": {
        "id": "-6l-nTgSAdS0"
      }
    },
    {
      "cell_type": "markdown",
      "source": [],
      "metadata": {
        "id": "u6EPO3gzAboo"
      }
    },
    {
      "cell_type": "code",
      "source": [
        "preds = f(time,params)\n",
        "mse(preds, speed)"
      ],
      "metadata": {
        "colab": {
          "base_uri": "https://localhost:8080/"
        },
        "id": "RBUk7e0uASCt",
        "outputId": "ea27fb7e-475d-45e6-b020-036ae74adfc6"
      },
      "execution_count": 304,
      "outputs": [
        {
          "output_type": "execute_result",
          "data": {
            "text/plain": [
              "tensor(191.0923, grad_fn=<SqrtBackward0>)"
            ]
          },
          "metadata": {},
          "execution_count": 304
        }
      ]
    },
    {
      "cell_type": "code",
      "source": [
        "show_preds(preds)"
      ],
      "metadata": {
        "colab": {
          "base_uri": "https://localhost:8080/",
          "height": 441
        },
        "id": "QEUit90WD3bM",
        "outputId": "2a379ec3-4cd6-4ce2-eb53-a0b9a8032048"
      },
      "execution_count": 305,
      "outputs": [
        {
          "output_type": "display_data",
          "data": {
            "text/plain": [
              "<Figure size 640x480 with 1 Axes>"
            ],
            "image/png": "[encoded data removed]"
          },
          "metadata": {}
        }
      ]
    },
    {
      "cell_type": "code",
      "source": [
        "def apply_step(params, prn=True):\n",
        "  preds = f(time,params)\n",
        "  loss = mse(preds, speed)\n",
        "  loss.backward()\n",
        "  params.data -= lr*params.grad.data\n",
        "  params.grad = None\n",
        "  if prn: print(loss.item())\n",
        "  return preds"
      ],
      "metadata": {
        "id": "06vbfsImEARz"
      },
      "execution_count": 306,
      "outputs": []
    },
    {
      "cell_type": "code",
      "source": [
        "for i in range(10): apply_step(params)"
      ],
      "metadata": {
        "colab": {
          "base_uri": "https://localhost:8080/"
        },
        "id": "gXGGTsr5EFVA",
        "outputId": "f6aaeffa-540e-45bc-ed88-ae68e2bddb94"
      },
      "execution_count": 307,
      "outputs": [
        {
          "output_type": "stream",
          "name": "stdout",
          "text": [
            "191.09226989746094\n",
            "188.31866455078125\n",
            "185.546630859375\n",
            "182.7761993408203\n",
            "180.0073699951172\n",
            "177.2403564453125\n",
            "174.4751434326172\n",
            "171.7118377685547\n",
            "168.9505615234375\n",
            "166.19139099121094\n"
          ]
        }
      ]
    },
    {
      "cell_type": "code",
      "source": [
        "_,axs = plt.subplots(1,4, figsize=(12,3))\n",
        "for ax in axs: show_preds(apply_step(params, False), ax)\n",
        "plt.tight_layout"
      ],
      "metadata": {
        "colab": {
          "base_uri": "https://localhost:8080/",
          "height": 268
        },
        "id": "Gi_IF7jBE-a5",
        "outputId": "d262edf2-1654-4b74-c56f-47a95fea4412"
      },
      "execution_count": 308,
      "outputs": [
        {
          "output_type": "execute_result",
          "data": {
            "text/plain": [
              "<function matplotlib.pyplot.tight_layout(*, pad=1.08, h_pad=None, w_pad=None, rect=None)>"
            ]
          },
          "metadata": {},
          "execution_count": 308
        },
        {
          "output_type": "display_data",
          "data": {
            "text/plain": [
              "<Figure size 1200x300 with 4 Axes>"
            ],
            "image/png": "[encoded data removed]"
          },
          "metadata": {}
        }
      ]
    },
    {
      "cell_type": "markdown",
      "source": [
        "이제부터 MNist 손실 함수에 대해서 공부한다"
      ],
      "metadata": {
        "id": "puAJzt8_Hx6G"
      }
    },
    {
      "cell_type": "code",
      "source": [
        "train_x = torch.cat([stacked_threes, stacked_sevens]).view(-1, 28*28)"
      ],
      "metadata": {
        "id": "UVjGwovhFepm"
      },
      "execution_count": 309,
      "outputs": []
    },
    {
      "cell_type": "markdown",
      "source": [
        "3차원인 stacked_threes와 stacked_sevens를 cat으로 붙인뒤 1차원으로 펼침"
      ],
      "metadata": {
        "id": "BvCUJnynKwXq"
      }
    },
    {
      "cell_type": "code",
      "source": [
        "train_y = tensor([1]*len(threes) + [0]*len(sevens)).unsqueeze(1)\n",
        "train_x.shape,train_y.shape"
      ],
      "metadata": {
        "colab": {
          "base_uri": "https://localhost:8080/"
        },
        "id": "6FrQ6eQxJLIM",
        "outputId": "4b0fc6db-62d1-4f8a-fa07-40d3eb0a24dc"
      },
      "execution_count": 310,
      "outputs": [
        {
          "output_type": "execute_result",
          "data": {
            "text/plain": [
              "(torch.Size([12396, 784]), torch.Size([12396, 1]))"
            ]
          },
          "metadata": {},
          "execution_count": 310
        }
      ]
    },
    {
      "cell_type": "markdown",
      "source": [
        "threes의 개수만큼 [1]을 배열 sevens만큼 [0]을 배열 그리고 unsqueeze를 통해 한줄로 만듬"
      ],
      "metadata": {
        "id": "oV8n2U0lLw5R"
      }
    },
    {
      "cell_type": "code",
      "source": [
        "dset = list(zip(train_x, train_y))\n",
        "x,y = dset[0]\n",
        "x.shape, y"
      ],
      "metadata": {
        "colab": {
          "base_uri": "https://localhost:8080/"
        },
        "id": "bSt4GEfKMKj6",
        "outputId": "4fa99999-0f84-4962-b56f-514a242330b7"
      },
      "execution_count": 311,
      "outputs": [
        {
          "output_type": "execute_result",
          "data": {
            "text/plain": [
              "(torch.Size([784]), tensor([1]))"
            ]
          },
          "metadata": {},
          "execution_count": 311
        }
      ]
    },
    {
      "cell_type": "code",
      "source": [
        "valid_x = torch.cat([valid_3_tens, valid_7_tens]).view(-1, 28*28)\n",
        "valid_y = tensor([1]*len(valid_3_tens) + [0]*len(valid_7_tens)).unsqueeze(1)\n",
        "valid_dset = list(zip(valid_x, valid_y))"
      ],
      "metadata": {
        "id": "KA-vCk4SGfnM"
      },
      "execution_count": 312,
      "outputs": []
    },
    {
      "cell_type": "code",
      "source": [
        "def init_params(size, std=1.0): return (torch.randn(size)*std).requires_grad_()\n",
        "weights = init_params((28*28, 1))"
      ],
      "metadata": {
        "id": "Ia4gKTvQJclF"
      },
      "execution_count": 313,
      "outputs": []
    },
    {
      "cell_type": "code",
      "source": [
        "bias = init_params(1)"
      ],
      "metadata": {
        "id": "egR3f6ToKSXc"
      },
      "execution_count": 314,
      "outputs": []
    },
    {
      "cell_type": "code",
      "source": [
        "(train_x[0]*weights.T).sum()+bias"
      ],
      "metadata": {
        "colab": {
          "base_uri": "https://localhost:8080/"
        },
        "id": "X39VsFAAMZP1",
        "outputId": "e6629809-bc79-432a-b842-e046bee089b2"
      },
      "execution_count": 315,
      "outputs": [
        {
          "output_type": "execute_result",
          "data": {
            "text/plain": [
              "tensor([12.2414], grad_fn=<AddBackward0>)"
            ]
          },
          "metadata": {},
          "execution_count": 315
        }
      ]
    },
    {
      "cell_type": "code",
      "source": [
        "def linear1(xb):return xb@weights + bias\n",
        "preds = linear1(train_x)\n",
        "preds"
      ],
      "metadata": {
        "colab": {
          "base_uri": "https://localhost:8080/"
        },
        "id": "VRiyQwDSNPSK",
        "outputId": "8d66f768-2840-418a-c579-78ade0a76341"
      },
      "execution_count": 316,
      "outputs": [
        {
          "output_type": "execute_result",
          "data": {
            "text/plain": [
              "tensor([[12.2414],\n",
              "        [10.7221],\n",
              "        [ 9.2579],\n",
              "        ...,\n",
              "        [13.0832],\n",
              "        [16.5547],\n",
              "        [ 9.9822]], grad_fn=<AddBackward0>)"
            ]
          },
          "metadata": {},
          "execution_count": 316
        }
      ]
    },
    {
      "cell_type": "code",
      "source": [
        "corrects = (preds>.5).float() == train_y\n",
        "corrects"
      ],
      "metadata": {
        "colab": {
          "base_uri": "https://localhost:8080/"
        },
        "id": "4ueumz4zNlKC",
        "outputId": "f5ff20fb-472b-45a6-8476-62a5f7fb54fa"
      },
      "execution_count": 317,
      "outputs": [
        {
          "output_type": "execute_result",
          "data": {
            "text/plain": [
              "tensor([[ True],\n",
              "        [ True],\n",
              "        [ True],\n",
              "        ...,\n",
              "        [False],\n",
              "        [False],\n",
              "        [False]])"
            ]
          },
          "metadata": {},
          "execution_count": 317
        }
      ]
    },
    {
      "cell_type": "code",
      "source": [
        "corrects.float().mean().item()"
      ],
      "metadata": {
        "colab": {
          "base_uri": "https://localhost:8080/"
        },
        "id": "rcjK6DhqeNQX",
        "outputId": "e0229dff-2ffd-442f-b25f-cad31f65d0a5"
      },
      "execution_count": 318,
      "outputs": [
        {
          "output_type": "execute_result",
          "data": {
            "text/plain": [
              "0.461923211812973"
            ]
          },
          "metadata": {},
          "execution_count": 318
        }
      ]
    },
    {
      "cell_type": "code",
      "source": [
        "preds = linear1(train_x)\n",
        "((preds>0.5).float() == train_y).float().mean().item()"
      ],
      "metadata": {
        "colab": {
          "base_uri": "https://localhost:8080/"
        },
        "id": "4MM0HyH-eaip",
        "outputId": "0903b0d7-781a-4ee2-89a3-c146bb668fab"
      },
      "execution_count": 319,
      "outputs": [
        {
          "output_type": "execute_result",
          "data": {
            "text/plain": [
              "0.461923211812973"
            ]
          },
          "metadata": {},
          "execution_count": 319
        }
      ]
    },
    {
      "cell_type": "code",
      "source": [
        "trgts = tensor([1,0,1])\n",
        "prds = tensor([0.9, 0.4, 0.2])"
      ],
      "metadata": {
        "id": "agUgsV0Ef2C2"
      },
      "execution_count": 320,
      "outputs": []
    },
    {
      "cell_type": "code",
      "source": [
        "def mnist_loss(predictions, targets):\n",
        "  return  torch.where(targets == 1, 1 - predictions, predictions).mean()"
      ],
      "metadata": {
        "id": "9r-ZVv5Rg9Id"
      },
      "execution_count": 321,
      "outputs": []
    },
    {
      "cell_type": "code",
      "source": [
        "torch.where(trgts==1, 1-prds, prds)"
      ],
      "metadata": {
        "colab": {
          "base_uri": "https://localhost:8080/"
        },
        "id": "W-8U4FY9hBv7",
        "outputId": "b5f0804b-c95e-46c9-c31e-ea5e9f3877bb"
      },
      "execution_count": 322,
      "outputs": [
        {
          "output_type": "execute_result",
          "data": {
            "text/plain": [
              "tensor([0.1000, 0.4000, 0.8000])"
            ]
          },
          "metadata": {},
          "execution_count": 322
        }
      ]
    },
    {
      "cell_type": "code",
      "source": [
        "mnist_loss(prds, trgts)"
      ],
      "metadata": {
        "colab": {
          "base_uri": "https://localhost:8080/"
        },
        "id": "bMEVskOGijZn",
        "outputId": "098fc264-6e07-4cf6-bf48-27503a3b69f2"
      },
      "execution_count": 323,
      "outputs": [
        {
          "output_type": "execute_result",
          "data": {
            "text/plain": [
              "tensor(0.4333)"
            ]
          },
          "metadata": {},
          "execution_count": 323
        }
      ]
    },
    {
      "cell_type": "code",
      "source": [
        "mnist_loss(tensor([0.9, 0.4, 0.8]),trgts)"
      ],
      "metadata": {
        "colab": {
          "base_uri": "https://localhost:8080/"
        },
        "id": "lEyqMwHriuMV",
        "outputId": "5351c4a9-7e94-4f67-9255-49352e6e53fa"
      },
      "execution_count": 324,
      "outputs": [
        {
          "output_type": "execute_result",
          "data": {
            "text/plain": [
              "tensor(0.2333)"
            ]
          },
          "metadata": {},
          "execution_count": 324
        }
      ]
    },
    {
      "cell_type": "code",
      "source": [
        "def sigmoid(x): return 1/(1+torch.exp(-x))"
      ],
      "metadata": {
        "id": "6ZoETT3Gi6JX"
      },
      "execution_count": 325,
      "outputs": []
    },
    {
      "cell_type": "markdown",
      "source": [
        "시그모이드 함수"
      ],
      "metadata": {
        "id": "u2LFeOJli7fa"
      }
    },
    {
      "cell_type": "code",
      "source": [
        "import torch\n",
        "import matplotlib.pyplot as plt\n",
        "import numpy as np\n",
        "\n",
        "def plot_function(func, min_val, max_val):\n",
        "    x = torch.linspace(min_val, max_val, 1000)\n",
        "    y = func(x)\n",
        "\n",
        "    plt.plot(x, y)\n",
        "    plt.xlabel('x')\n",
        "    plt.ylabel('y')\n",
        "    plt.title(f'Plot of {func.__name__}(x)')\n",
        "    plt.grid(True)\n",
        "    plt.show()\n",
        "\n",
        "# 시그모이드 함수를 시각화\n",
        "plot_function(torch.sigmoid, min_val=-4, max_val=4)"
      ],
      "metadata": {
        "colab": {
          "base_uri": "https://localhost:8080/",
          "height": 481
        },
        "id": "fHLHCy7SkHGa",
        "outputId": "a52158dc-04b4-4efe-fbe7-87572c202e67"
      },
      "execution_count": 326,
      "outputs": [
        {
          "output_type": "display_data",
          "data": {
            "text/plain": [
              "<Figure size 640x480 with 1 Axes>"
            ],
            "image/png": "[encoded data removed]"
          },
          "metadata": {}
        }
      ]
    },
    {
      "cell_type": "code",
      "source": [
        "def mnist_loss(predictions, targets):\n",
        "  predictioins = predictions.sigmoid()\n",
        "  return torch.where(targets == 1, 1-predictions, predictions).mean()"
      ],
      "metadata": {
        "id": "qa0iKXPGkL37"
      },
      "execution_count": 327,
      "outputs": []
    },
    {
      "cell_type": "markdown",
      "source": [
        "손실함수를 쓰는 이유: loss함수는 예측이 항상 0과 1 사이라고 예측하기 때문이다"
      ],
      "metadata": {
        "id": "I8DCbcETksId"
      }
    },
    {
      "cell_type": "markdown",
      "source": [
        "미니 배치 사이즈 고르는법"
      ],
      "metadata": {
        "id": "0b1kY9iLnlkR"
      }
    },
    {
      "cell_type": "code",
      "source": [
        "coll = range(15)\n",
        "dl = DataLoader(coll, batch_size = 5, shuffle = True)\n",
        "list(dl)"
      ],
      "metadata": {
        "colab": {
          "base_uri": "https://localhost:8080/"
        },
        "id": "ymTlFeDgkYwz",
        "outputId": "20140081-f958-4ab7-a947-ce1d334bf5a6"
      },
      "execution_count": 328,
      "outputs": [
        {
          "output_type": "execute_result",
          "data": {
            "text/plain": [
              "[tensor([ 1,  8, 13,  4,  3]),\n",
              " tensor([14,  5, 11,  6,  9]),\n",
              " tensor([10,  0,  7,  2, 12])]"
            ]
          },
          "metadata": {},
          "execution_count": 328
        }
      ]
    },
    {
      "cell_type": "code",
      "source": [
        "ds = L(enumerate(string.ascii_lowercase))\n",
        "ds"
      ],
      "metadata": {
        "colab": {
          "base_uri": "https://localhost:8080/"
        },
        "id": "iWyYVnyGnj1i",
        "outputId": "a8c2f178-4919-43d4-e095-21f7acd3cebf"
      },
      "execution_count": 329,
      "outputs": [
        {
          "output_type": "execute_result",
          "data": {
            "text/plain": [
              "(#26) [(0, 'a'),(1, 'b'),(2, 'c'),(3, 'd'),(4, 'e'),(5, 'f'),(6, 'g'),(7, 'h'),(8, 'i'),(9, 'j')...]"
            ]
          },
          "metadata": {},
          "execution_count": 329
        }
      ]
    },
    {
      "cell_type": "code",
      "source": [
        "dl = DataLoader(ds, batch_size=6, shuffle = True)\n",
        "list(dl)"
      ],
      "metadata": {
        "colab": {
          "base_uri": "https://localhost:8080/"
        },
        "id": "zgcICLl1o5PG",
        "outputId": "4fc112e0-ff63-42fd-c38e-90f253f48c6c"
      },
      "execution_count": 330,
      "outputs": [
        {
          "output_type": "execute_result",
          "data": {
            "text/plain": [
              "[(tensor([ 0, 15,  8, 11, 22, 19]), ('a', 'p', 'i', 'l', 'w', 't')),\n",
              " (tensor([ 7,  6,  2,  1, 10,  5]), ('h', 'g', 'c', 'b', 'k', 'f')),\n",
              " (tensor([25,  3,  9, 18, 14, 20]), ('z', 'd', 'j', 's', 'o', 'u')),\n",
              " (tensor([13, 16, 24, 21, 17, 23]), ('n', 'q', 'y', 'v', 'r', 'x')),\n",
              " (tensor([ 4, 12]), ('e', 'm'))]"
            ]
          },
          "metadata": {},
          "execution_count": 330
        }
      ]
    },
    {
      "cell_type": "code",
      "source": [
        "weights = init_params((28*28,1))\n",
        "bias = init_params(1)"
      ],
      "metadata": {
        "id": "16ctKOiepIQN"
      },
      "execution_count": 331,
      "outputs": []
    },
    {
      "cell_type": "code",
      "source": [
        "dl = DataLoader(dset, batch_size = 256)\n",
        "xb, yb =first(dl)\n",
        "xb.shape, yb.shape"
      ],
      "metadata": {
        "colab": {
          "base_uri": "https://localhost:8080/"
        },
        "id": "1t82LjiLp9ZG",
        "outputId": "8ddfc948-f111-47cb-fc25-98bbe8173d6a"
      },
      "execution_count": 332,
      "outputs": [
        {
          "output_type": "execute_result",
          "data": {
            "text/plain": [
              "(torch.Size([256, 784]), torch.Size([256, 1]))"
            ]
          },
          "metadata": {},
          "execution_count": 332
        }
      ]
    },
    {
      "cell_type": "code",
      "source": [
        "valid_dl = DataLoader(valid_dset, batch_size = 256)"
      ],
      "metadata": {
        "id": "IB46SP3BqSmz"
      },
      "execution_count": 333,
      "outputs": []
    },
    {
      "cell_type": "code",
      "source": [
        "batch = train_x[:4]\n",
        "batch.shape\n",
        "\n",
        "preds = linear1(batch)\n",
        "preds\n",
        "\n",
        "loss = mnist_loss(preds, train_y[:4])\n",
        "loss"
      ],
      "metadata": {
        "colab": {
          "base_uri": "https://localhost:8080/"
        },
        "id": "tqzZlavIq1uZ",
        "outputId": "a3cd2c60-5903-4884-f145-89ec989f7f6a"
      },
      "execution_count": 334,
      "outputs": [
        {
          "output_type": "execute_result",
          "data": {
            "text/plain": [
              "tensor(-0.2851, grad_fn=<MeanBackward0>)"
            ]
          },
          "metadata": {},
          "execution_count": 334
        }
      ]
    },
    {
      "cell_type": "code",
      "source": [
        "loss.backward()\n",
        "weights.grad.shape, weights.grad.mean(), bias.grad"
      ],
      "metadata": {
        "colab": {
          "base_uri": "https://localhost:8080/"
        },
        "id": "Y1vN-MQ6rlOQ",
        "outputId": "38c1dc2a-155e-4e24-9392-7234f7b89840"
      },
      "execution_count": 335,
      "outputs": [
        {
          "output_type": "execute_result",
          "data": {
            "text/plain": [
              "(torch.Size([784, 1]), tensor(-0.1511), tensor([-1.]))"
            ]
          },
          "metadata": {},
          "execution_count": 335
        }
      ]
    },
    {
      "cell_type": "code",
      "source": [
        "def calc_grad(xb, yb, model):\n",
        "  preds = model(xb)\n",
        "  loss = mnist_loss(preds, yb)\n",
        "  loss.backward()"
      ],
      "metadata": {
        "id": "qhCCXz0ar_Do"
      },
      "execution_count": 336,
      "outputs": []
    },
    {
      "cell_type": "code",
      "source": [
        "calc_grad(batch, train_y[:4], linear1)\n",
        "weights.grad.mean(), bias.grad"
      ],
      "metadata": {
        "colab": {
          "base_uri": "https://localhost:8080/"
        },
        "id": "i_ZevjSSsJIb",
        "outputId": "5304d1f1-d53b-4216-8a0c-8ec555414846"
      },
      "execution_count": 337,
      "outputs": [
        {
          "output_type": "execute_result",
          "data": {
            "text/plain": [
              "(tensor(-0.3022), tensor([-2.]))"
            ]
          },
          "metadata": {},
          "execution_count": 337
        }
      ]
    },
    {
      "cell_type": "code",
      "source": [
        "calc_grad(batch, train_y[:4], linear1)\n",
        "weights.grad.mean(), bias.grad"
      ],
      "metadata": {
        "colab": {
          "base_uri": "https://localhost:8080/"
        },
        "id": "vbe6_c-7tAii",
        "outputId": "4b7f58fa-6841-4fee-8416-10f04d41e440"
      },
      "execution_count": 338,
      "outputs": [
        {
          "output_type": "execute_result",
          "data": {
            "text/plain": [
              "(tensor(-0.4534), tensor([-3.]))"
            ]
          },
          "metadata": {},
          "execution_count": 338
        }
      ]
    },
    {
      "cell_type": "code",
      "source": [
        "weights.grad.zero_()\n",
        "bias.grad.zero_();"
      ],
      "metadata": {
        "id": "aJLugSOvtDKR"
      },
      "execution_count": 339,
      "outputs": []
    },
    {
      "cell_type": "code",
      "source": [
        "def train_epoch(model, lr, params):\n",
        "  for xb, yb in dl:\n",
        "    calc_grad(xb, yb, model)\n",
        "    for p in params:\n",
        "      p.data -= p.grad*lr\n",
        "      p.grad.zero_()"
      ],
      "metadata": {
        "id": "Y-rSLPi9tUxD"
      },
      "execution_count": 340,
      "outputs": []
    },
    {
      "cell_type": "code",
      "source": [
        "(preds>0.5).float() == train_y[:4]"
      ],
      "metadata": {
        "colab": {
          "base_uri": "https://localhost:8080/"
        },
        "id": "MQ1biMPiuGMg",
        "outputId": "71dc1933-d1df-49fa-a269-0f2bfa95436c"
      },
      "execution_count": 341,
      "outputs": [
        {
          "output_type": "execute_result",
          "data": {
            "text/plain": [
              "tensor([[False],\n",
              "        [False],\n",
              "        [ True],\n",
              "        [ True]])"
            ]
          },
          "metadata": {},
          "execution_count": 341
        }
      ]
    },
    {
      "cell_type": "code",
      "source": [
        "def batch_accuracy(xb, yb):\n",
        "  preds = xb.sigmoid()\n",
        "  correct =(preds > 0.5) == yb\n",
        "  return correct.float().mean()"
      ],
      "metadata": {
        "id": "JAxNAamOuoYK"
      },
      "execution_count": 342,
      "outputs": []
    },
    {
      "cell_type": "code",
      "source": [
        "batch_accuracy(linear1(batch), train_y[:4])"
      ],
      "metadata": {
        "colab": {
          "base_uri": "https://localhost:8080/"
        },
        "id": "HmFpdPohvB70",
        "outputId": "4e4b4e02-9da7-43d7-e4ff-0550f3387850"
      },
      "execution_count": 343,
      "outputs": [
        {
          "output_type": "execute_result",
          "data": {
            "text/plain": [
              "tensor(0.5000)"
            ]
          },
          "metadata": {},
          "execution_count": 343
        }
      ]
    },
    {
      "cell_type": "code",
      "source": [
        "def validate_epoch(model):\n",
        "  accs = [batch_accuracy(model(xb), yb) for xb, yb in valid_dl]\n",
        "  return round(torch.stack(accs).mean().item(), 4)\n",
        "\n",
        "validate_epoch(linear1)"
      ],
      "metadata": {
        "colab": {
          "base_uri": "https://localhost:8080/"
        },
        "id": "aQX8OLbNvNgE",
        "outputId": "db556883-5ab1-4d59-bdf9-65ac9ce4d6be"
      },
      "execution_count": 344,
      "outputs": [
        {
          "output_type": "execute_result",
          "data": {
            "text/plain": [
              "0.5402"
            ]
          },
          "metadata": {},
          "execution_count": 344
        }
      ]
    },
    {
      "cell_type": "code",
      "source": [
        "lr = 1.\n",
        "params = weights, bias\n",
        "train_epoch(linear1, lr, params)\n",
        "validate_epoch(linear1)"
      ],
      "metadata": {
        "colab": {
          "base_uri": "https://localhost:8080/"
        },
        "id": "1jO_WaIYvqvp",
        "outputId": "5e5f6f13-f58b-42a0-dd77-92eef316d21f"
      },
      "execution_count": 345,
      "outputs": [
        {
          "output_type": "execute_result",
          "data": {
            "text/plain": [
              "0.9558"
            ]
          },
          "metadata": {},
          "execution_count": 345
        }
      ]
    },
    {
      "cell_type": "code",
      "source": [
        "for i in range(20):\n",
        "  train_epoch(linear1, lr, params)\n",
        "  print(validate_epoch(linear1), end=' ')"
      ],
      "metadata": {
        "colab": {
          "base_uri": "https://localhost:8080/"
        },
        "id": "h8X2gM8ewhjv",
        "outputId": "fc7a990f-3fab-4cb3-95e5-637f3db431d1"
      },
      "execution_count": 346,
      "outputs": [
        {
          "output_type": "stream",
          "name": "stdout",
          "text": [
            "0.9553 0.9543 0.9538 0.9538 0.9533 0.9533 0.9533 0.9533 0.9533 0.9533 0.9533 0.9533 0.9533 0.9533 0.9533 0.9533 0.9533 0.9533 0.9533 0.9533 "
          ]
        }
      ]
    },
    {
      "cell_type": "markdown",
      "source": [
        "옵티마이저 만들기"
      ],
      "metadata": {
        "id": "_neoSWxNx4U2"
      }
    },
    {
      "cell_type": "code",
      "source": [
        "linear_model = nn.Linear(28*28, 1)"
      ],
      "metadata": {
        "id": "l05S6zCjwz0B"
      },
      "execution_count": 347,
      "outputs": []
    },
    {
      "cell_type": "code",
      "source": [
        "w,b = linear_model.parameters()\n",
        "w.shape,b.shape"
      ],
      "metadata": {
        "colab": {
          "base_uri": "https://localhost:8080/"
        },
        "id": "OQB4Ph-kF_Tv",
        "outputId": "fb8cfd8e-c943-4115-d9be-b4956d06fc86"
      },
      "execution_count": 348,
      "outputs": [
        {
          "output_type": "execute_result",
          "data": {
            "text/plain": [
              "(torch.Size([1, 784]), torch.Size([1]))"
            ]
          },
          "metadata": {},
          "execution_count": 348
        }
      ]
    },
    {
      "cell_type": "code",
      "source": [
        "class BasicOptim:\n",
        "  def __init__(self, params, lr): self.params, self.lr = list(params), lr\n",
        "\n",
        "  def step(self, *args, **kwargs):\n",
        "    for p in self.params: p.data -= p.grad.data * self.lr\n",
        "\n",
        "  def zero_grad(self, *args, **kwargs):\n",
        "    for p in self.params : p.grad = None"
      ],
      "metadata": {
        "id": "j5l5MmxcGa6R"
      },
      "execution_count": 349,
      "outputs": []
    },
    {
      "cell_type": "code",
      "source": [
        "opt = BasicOptim(linear_model.parameters(), lr)"
      ],
      "metadata": {
        "id": "hp3JsAzpG58F"
      },
      "execution_count": 350,
      "outputs": []
    },
    {
      "cell_type": "code",
      "source": [
        "def train_epoch(model):\n",
        "  for xb, yb in dl:\n",
        "    calc_grad(xb, yb, model)\n",
        "    opt.step()\n",
        "    opt.zero_grad()"
      ],
      "metadata": {
        "id": "AzHR04kFH0gj"
      },
      "execution_count": 351,
      "outputs": []
    },
    {
      "cell_type": "code",
      "source": [
        "validate_epoch(linear_model)"
      ],
      "metadata": {
        "colab": {
          "base_uri": "https://localhost:8080/"
        },
        "id": "Wo6rGf8OIH1Y",
        "outputId": "326a19a0-8946-42e6-d927-faa6beecc1d8"
      },
      "execution_count": 352,
      "outputs": [
        {
          "output_type": "execute_result",
          "data": {
            "text/plain": [
              "0.4314"
            ]
          },
          "metadata": {},
          "execution_count": 352
        }
      ]
    },
    {
      "cell_type": "code",
      "source": [
        "def train_model(model, epochs):\n",
        "  for i in range(epochs):\n",
        "    train_epoch(model)\n",
        "    print(validate_epoch(model), end =' ')\n"
      ],
      "metadata": {
        "id": "LeKg-8sKIcoB"
      },
      "execution_count": 353,
      "outputs": []
    },
    {
      "cell_type": "code",
      "source": [
        "train_model(linear_model, 20)"
      ],
      "metadata": {
        "colab": {
          "base_uri": "https://localhost:8080/"
        },
        "id": "VxDiN-mAI59e",
        "outputId": "7965f6f0-3203-4749-8e40-1c4f31ca1577"
      },
      "execution_count": 354,
      "outputs": [
        {
          "output_type": "stream",
          "name": "stdout",
          "text": [
            "0.9533 0.9533 0.9533 0.9533 0.9533 0.9533 0.9533 0.9533 0.9533 0.9533 0.9533 0.9533 0.9533 0.9533 0.9533 0.9533 0.9533 0.9533 0.9533 0.9533 "
          ]
        }
      ]
    },
    {
      "cell_type": "code",
      "source": [
        "linear_model = nn.Linear(28*28, 1)\n",
        "opt = SGD(linear_model.parameters(), lr)\n",
        "train_model(linear_model, 20)\n"
      ],
      "metadata": {
        "colab": {
          "base_uri": "https://localhost:8080/"
        },
        "id": "R1DAfhptJ43b",
        "outputId": "22b864a3-e4a8-415a-9248-949a9dc384fd"
      },
      "execution_count": 355,
      "outputs": [
        {
          "output_type": "stream",
          "name": "stdout",
          "text": [
            "0.9533 0.9533 0.9533 0.9533 0.9533 0.9533 0.9533 0.9533 0.9533 0.9533 0.9533 0.9533 0.9533 0.9533 0.9533 0.9533 0.9533 0.9533 0.9533 0.9533 "
          ]
        }
      ]
    },
    {
      "cell_type": "code",
      "source": [
        "dls = DataLoaders(dl, valid_dl)"
      ],
      "metadata": {
        "id": "afnSGHATNbG6"
      },
      "execution_count": 356,
      "outputs": []
    },
    {
      "cell_type": "code",
      "source": [
        "learn = Learner(dls, nn.Linear(28*28, 1), opt_func = SGD, loss_func = mnist_loss, metrics=batch_accuracy)"
      ],
      "metadata": {
        "id": "vuRCNNrXN-1k"
      },
      "execution_count": 357,
      "outputs": []
    },
    {
      "cell_type": "code",
      "source": [
        "learn.fit(10, lr=lr)"
      ],
      "metadata": {
        "colab": {
          "base_uri": "https://localhost:8080/",
          "height": 363
        },
        "id": "jugLMT_6P1DT",
        "outputId": "1df26607-10a4-4470-fbf9-89c293ccee4f"
      },
      "execution_count": 358,
      "outputs": [
        {
          "output_type": "display_data",
          "data": {
            "text/plain": [
              "<IPython.core.display.HTML object>"
            ],
            "text/html": [
              "\n",
              "<style>\n",
              "    /* Turns off some styling */\n",
              "    progress {\n",
              "        /* gets rid of default border in Firefox and Opera. */\n",
              "        border: none;\n",
              "        /* Needs to be in here for Safari polyfill so background images work as expected. */\n",
              "        background-size: auto;\n",
              "    }\n",
              "    progress:not([value]), progress:not([value])::-webkit-progress-bar {\n",
              "        background: repeating-linear-gradient(45deg, #7e7e7e, #7e7e7e 10px, #5c5c5c 10px, #5c5c5c 20px);\n",
              "    }\n",
              "    .progress-bar-interrupted, .progress-bar-interrupted::-webkit-progress-bar {\n",
              "        background: #F44336;\n",
              "    }\n",
              "</style>\n"
            ]
          },
          "metadata": {}
        },
        {
          "output_type": "display_data",
          "data": {
            "text/plain": [
              "<IPython.core.display.HTML object>"
            ],
            "text/html": [
              "<table border=\"1\" class=\"dataframe\">\n",
              "  <thead>\n",
              "    <tr style=\"text-align: left;\">\n",
              "      <th>epoch</th>\n",
              "      <th>train_loss</th>\n",
              "      <th>valid_loss</th>\n",
              "      <th>batch_accuracy</th>\n",
              "      <th>time</th>\n",
              "    </tr>\n",
              "  </thead>\n",
              "  <tbody>\n",
              "    <tr>\n",
              "      <td>0</td>\n",
              "      <td>-83.053146</td>\n",
              "      <td>-335.861481</td>\n",
              "      <td>0.953386</td>\n",
              "      <td>00:00</td>\n",
              "    </tr>\n",
              "    <tr>\n",
              "      <td>1</td>\n",
              "      <td>-309.426300</td>\n",
              "      <td>-672.178345</td>\n",
              "      <td>0.953386</td>\n",
              "      <td>00:00</td>\n",
              "    </tr>\n",
              "    <tr>\n",
              "      <td>2</td>\n",
              "      <td>-570.814148</td>\n",
              "      <td>-1008.495117</td>\n",
              "      <td>0.953386</td>\n",
              "      <td>00:00</td>\n",
              "    </tr>\n",
              "    <tr>\n",
              "      <td>3</td>\n",
              "      <td>-855.067627</td>\n",
              "      <td>-1344.811890</td>\n",
              "      <td>0.953386</td>\n",
              "      <td>00:00</td>\n",
              "    </tr>\n",
              "    <tr>\n",
              "      <td>4</td>\n",
              "      <td>-1152.498169</td>\n",
              "      <td>-1681.128784</td>\n",
              "      <td>0.953386</td>\n",
              "      <td>00:00</td>\n",
              "    </tr>\n",
              "    <tr>\n",
              "      <td>5</td>\n",
              "      <td>-1456.831299</td>\n",
              "      <td>-2017.445801</td>\n",
              "      <td>0.953386</td>\n",
              "      <td>00:00</td>\n",
              "    </tr>\n",
              "    <tr>\n",
              "      <td>6</td>\n",
              "      <td>-1764.535522</td>\n",
              "      <td>-2353.762695</td>\n",
              "      <td>0.953386</td>\n",
              "      <td>00:00</td>\n",
              "    </tr>\n",
              "    <tr>\n",
              "      <td>7</td>\n",
              "      <td>-2073.804199</td>\n",
              "      <td>-2690.079346</td>\n",
              "      <td>0.953386</td>\n",
              "      <td>00:00</td>\n",
              "    </tr>\n",
              "    <tr>\n",
              "      <td>8</td>\n",
              "      <td>-2383.772949</td>\n",
              "      <td>-3026.396484</td>\n",
              "      <td>0.953386</td>\n",
              "      <td>00:00</td>\n",
              "    </tr>\n",
              "    <tr>\n",
              "      <td>9</td>\n",
              "      <td>-2694.045410</td>\n",
              "      <td>-3362.713135</td>\n",
              "      <td>0.953386</td>\n",
              "      <td>00:00</td>\n",
              "    </tr>\n",
              "  </tbody>\n",
              "</table>"
            ]
          },
          "metadata": {}
        }
      ]
    },
    {
      "cell_type": "code",
      "source": [
        "def simple_net(xb):\n",
        "  res = xb@w1 + b1\n",
        "  res = res.max(tensor(0.0))\n",
        "  res = res@w2 + b2\n",
        "  return res"
      ],
      "metadata": {
        "id": "ZcFXKA09QDqu"
      },
      "execution_count": 359,
      "outputs": []
    },
    {
      "cell_type": "markdown",
      "source": [
        "@는 행렬의 곱셈 그리고 res.max는 relu함수"
      ],
      "metadata": {
        "id": "adG4ozbeUVeK"
      }
    },
    {
      "cell_type": "code",
      "source": [
        "w1 = init_params((28*28, 30))\n",
        "b1 = init_params(30)\n",
        "w2 = init_params((30, 1))\n",
        "b2 = init_params(1)"
      ],
      "metadata": {
        "id": "Nr1mEOBjUTS_"
      },
      "execution_count": 360,
      "outputs": []
    },
    {
      "cell_type": "code",
      "source": [
        "simple_net = nn.Sequential(\n",
        "    nn.Linear(28*28, 30),\n",
        "    nn.ReLU(),\n",
        "    nn.Linear(30,1)\n",
        ")"
      ],
      "metadata": {
        "id": "WdRukSJuUsKL"
      },
      "execution_count": 361,
      "outputs": []
    },
    {
      "cell_type": "code",
      "source": [
        "learn = Learner(dls, simple_net, opt_func = SGD, loss_func = mnist_loss, metrics = batch_accuracy)\n",
        "\n",
        "learn.fit(5, 0.01)"
      ],
      "metadata": {
        "colab": {
          "base_uri": "https://localhost:8080/",
          "height": 206
        },
        "id": "hySKvQEAVgjm",
        "outputId": "58ea41f1-2afe-44ca-dd9c-5b983df1ce43"
      },
      "execution_count": 365,
      "outputs": [
        {
          "output_type": "display_data",
          "data": {
            "text/plain": [
              "<IPython.core.display.HTML object>"
            ],
            "text/html": [
              "\n",
              "<style>\n",
              "    /* Turns off some styling */\n",
              "    progress {\n",
              "        /* gets rid of default border in Firefox and Opera. */\n",
              "        border: none;\n",
              "        /* Needs to be in here for Safari polyfill so background images work as expected. */\n",
              "        background-size: auto;\n",
              "    }\n",
              "    progress:not([value]), progress:not([value])::-webkit-progress-bar {\n",
              "        background: repeating-linear-gradient(45deg, #7e7e7e, #7e7e7e 10px, #5c5c5c 10px, #5c5c5c 20px);\n",
              "    }\n",
              "    .progress-bar-interrupted, .progress-bar-interrupted::-webkit-progress-bar {\n",
              "        background: #F44336;\n",
              "    }\n",
              "</style>\n"
            ]
          },
          "metadata": {}
        },
        {
          "output_type": "display_data",
          "data": {
            "text/plain": [
              "<IPython.core.display.HTML object>"
            ],
            "text/html": [
              "<table border=\"1\" class=\"dataframe\">\n",
              "  <thead>\n",
              "    <tr style=\"text-align: left;\">\n",
              "      <th>epoch</th>\n",
              "      <th>train_loss</th>\n",
              "      <th>valid_loss</th>\n",
              "      <th>batch_accuracy</th>\n",
              "      <th>time</th>\n",
              "    </tr>\n",
              "  </thead>\n",
              "  <tbody>\n",
              "    <tr>\n",
              "      <td>0</td>\n",
              "      <td>nan</td>\n",
              "      <td>nan</td>\n",
              "      <td>0.504416</td>\n",
              "      <td>00:00</td>\n",
              "    </tr>\n",
              "    <tr>\n",
              "      <td>1</td>\n",
              "      <td>nan</td>\n",
              "      <td>nan</td>\n",
              "      <td>0.504416</td>\n",
              "      <td>00:00</td>\n",
              "    </tr>\n",
              "    <tr>\n",
              "      <td>2</td>\n",
              "      <td>nan</td>\n",
              "      <td>nan</td>\n",
              "      <td>0.504416</td>\n",
              "      <td>00:00</td>\n",
              "    </tr>\n",
              "    <tr>\n",
              "      <td>3</td>\n",
              "      <td>nan</td>\n",
              "      <td>nan</td>\n",
              "      <td>0.504416</td>\n",
              "      <td>00:00</td>\n",
              "    </tr>\n",
              "    <tr>\n",
              "      <td>4</td>\n",
              "      <td>nan</td>\n",
              "      <td>nan</td>\n",
              "      <td>0.504416</td>\n",
              "      <td>00:00</td>\n",
              "    </tr>\n",
              "  </tbody>\n",
              "</table>"
            ]
          },
          "metadata": {}
        }
      ]
    },
    {
      "cell_type": "markdown",
      "source": [
        "plt.plot"
      ],
      "metadata": {
        "id": "RTJrDedfWqIh"
      }
    },
    {
      "cell_type": "code",
      "source": [
        "plt.plot(L(learn.recorder.values).itemgot(2))"
      ],
      "metadata": {
        "colab": {
          "base_uri": "https://localhost:8080/",
          "height": 452
        },
        "id": "EWJ6iLMXWsO7",
        "outputId": "3b3ff7e9-50dd-4d6b-cf8b-b0720b8585fd"
      },
      "execution_count": 363,
      "outputs": [
        {
          "output_type": "execute_result",
          "data": {
            "text/plain": [
              "[<matplotlib.lines.Line2D at 0x78f9e419cee0>]"
            ]
          },
          "metadata": {},
          "execution_count": 363
        },
        {
          "output_type": "display_data",
          "data": {
            "text/plain": [
              "<Figure size 640x480 with 1 Axes>"
            ],
            "image/png": "[encoded data removed]"
          },
          "metadata": {}
        }
      ]
    },
    {
      "cell_type": "code",
      "source": [],
      "metadata": {
        "id": "5IpWsb1QXMq2"
      },
      "execution_count": null,
      "outputs": []
    }
  ]
}